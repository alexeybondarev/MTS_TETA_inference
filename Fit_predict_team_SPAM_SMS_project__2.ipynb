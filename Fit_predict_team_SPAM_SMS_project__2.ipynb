{
  "nbformat": 4,
  "nbformat_minor": 0,
  "metadata": {
    "colab": {
      "name": "Fit_predict_team_SPAM_SMS_project _2.ipynb",
      "provenance": [],
      "collapsed_sections": [
        "ZXV0qLpJX0RX",
        "bRV4ZjO7X0Rc",
        "T6qRTsO_X0Rm",
        "Cvk4ouJwX0Rp"
      ],
      "include_colab_link": true
    },
    "kernelspec": {
      "display_name": "Python 3",
      "language": "python",
      "name": "python3"
    },
    "language_info": {
      "codemirror_mode": {
        "name": "ipython",
        "version": 3
      },
      "file_extension": ".py",
      "mimetype": "text/x-python",
      "name": "python",
      "nbconvert_exporter": "python",
      "pygments_lexer": "ipython3",
      "version": "3.6.8"
    }
  },
  "cells": [
    {
      "cell_type": "markdown",
      "metadata": {
        "id": "view-in-github",
        "colab_type": "text"
      },
      "source": [
        "<a href=\"https://colab.research.google.com/github/alexeybondarev/MTS_TETA_inference/blob/main/Fit_predict_team_SPAM_SMS_project__2.ipynb\" target=\"_parent\"><img src=\"https://colab.research.google.com/assets/colab-badge.svg\" alt=\"Open In Colab\"/></a>"
      ]
    },
    {
      "cell_type": "markdown",
      "metadata": {
        "id": "FW5tJHLdX0Q8"
      },
      "source": [
        "# Задача классификации спам сообщений в СМС, постановка задачи:\n",
        "С широким проникновением мобильного интернета и мессенджеров, операторы сотовой связи начали быстро терять выручку от одного из своих самых маржинальных каналов — сервиса SMS. Все операторы достаточно быстро перестроили свою тарифную политику и теперь получают доход от данного канала не напрямую, а в рамках общей подписки на пакетный тариф (300 минут звонков и 300 SMS, к примеру). В то же время, появился и до сих пор широко распространен канал выручки для оператора от таргетированной SMS рекламы и разных сервисов, использующих SMS в качестве инструмента аутентификации пользователей или транзакций. К сожалению, в официальных финансовых отчетах не приводится какую долю выручки приносит данный канал, но если предположить, что он составляет даже 0,1%, то в денежном выражении это рынок на миллиард рублей в год.\n",
        "\n",
        "В связи с этим для оператора важно контролировать данный канал, так чтобы он был привлекателен для корпоративных клиентов и по-прежнему востребован у пользователей. Одним из показателей качества канала для пользователя является отсутствие спама, т. е. заведомо не релевантных и раздражающих сообщений. Проблема спама общая для всех электронных каналов коммуникаций и давно известная. Для канала SMS она характеризуется тем, что обработка спама может и должна проходить на стороне оператора.\n",
        "\n",
        "В связи с этим бизнес задача может быть сформулирована следующих образом:\n",
        "\n",
        "* Создать сервис автоматической блокировки SMS спама на стороне оператора, к которому принадлежит абонент.\n",
        "* Обеспечить работу в связке с SMS шлюзом. Он не должен вносить существенных временных задержек (это может быть критично для финансовых транзакций), а также не требовать большого количества оборудования\n",
        "* Обеспечить высокое качество сервиса по метрикам Accuracy (> 90%), Precision (> 90%) и Recall (> 90%). При этом необходимо обратить внимание на ошибки первого рода (< 10% от общего количества классифицированных сообщений).\n",
        "\n",
        "С учетом объема рынка, который можно очень грубо оценить в миллиард рублей, при 4-х операторах связи в России, наличие такого сервиса у оператора может быть высоким конкурентным преимуществом. Дополнительные 10% рынка, полученные у конкурентов, это дополнительные 100 млн рублей годовой выручки.\n",
        "\n",
        "Критерием успеха будем считать увеличение объема выручки на 0.1%."
      ]
    },
    {
      "cell_type": "markdown",
      "metadata": {
        "id": "ZS1q_3dpYAFn"
      },
      "source": [
        "# Постановка задачи машинного обучения:\n",
        "Таким образом, была поставлена задача классификации текстовых SMS сообщений на два класса спам/не спам.\n",
        "\n",
        "Пайплайн разработки и внедрения модели машинного обучения для определения SMS-спама состоит из следующих шагов:\n",
        "- выбор и тренировка части модели, превращающей текст SMS в векторное латентное представление. В качестве данной части могут быть применены как такие подходы  как Bag of words, TF-IDF, так и нейросетевые подходы, в том числе трансформеры\n",
        "- выбор, тренировка, подбор гиперпараметров для второй части модели — бинарного классификатора над латентным представлением текста. В качестве этих моделей могут быть использованы классические подходы (логистическая регрессия, случайный лес), байесовские подходы или нейросетевые классификаторы.\n",
        "\n",
        "Выбор обоих частей можно вести независимо, в качестве критерия стоит обращать внимание на качество модели (метрики accuracy, precision, recall), скорость и сложность обучения модели, скорость и сложность инференса в продуктовой среде\n",
        "\n",
        "Ремарка. В качестве тестового датасета был выбран свободно доступный датасет SMS сообщений на английском языке https://www.kaggle.com/uciml/sms-spam-collection-dataset. Это достаточно хороший датасет из 5574 сообщений, собранных из реальных источников. Однако, реальную модель для использования требуется тренировать на языке страны, в которой эта модель будет внедрена, в нашем случае на русском. Мы исходим из гипотезы, что различия в качестве между разными моделями для русского и английского языков, а также различия в применяемых подходах/библиотеках будут незначительными, однако, это требует дополнительной проверки. "
      ]
    },
    {
      "cell_type": "markdown",
      "metadata": {
        "id": "kG1sFN5XX0RD"
      },
      "source": [
        "# Получение данных и предобработка"
      ]
    },
    {
      "cell_type": "code",
      "metadata": {
        "id": "wXv4d3-mX0RF"
      },
      "source": [
        "import numpy as np \n",
        "import pandas as pd \n",
        "from wordcloud import WordCloud\n",
        "import matplotlib.pyplot as plt\n",
        "import seaborn as sns\n",
        "import nltk\n",
        "import warnings\n",
        "warnings.filterwarnings('ignore')\n",
        "import re\n",
        "import torch\n",
        "from nltk.corpus import stopwords\n",
        "from nltk import word_tokenize\n",
        "from nltk.stem import SnowballStemmer\n",
        "from sklearn.model_selection import train_test_split"
      ],
      "execution_count": null,
      "outputs": []
    },
    {
      "cell_type": "code",
      "metadata": {
        "id": "cyRKp4C5X0RJ",
        "outputId": "8f4c1ba6-4580-419d-e2cb-2b29d09a029c"
      },
      "source": [
        "sms.info()"
      ],
      "execution_count": null,
      "outputs": [
        {
          "name": "stdout",
          "output_type": "stream",
          "text": [
            "<class 'pandas.core.frame.DataFrame'>\n",
            "RangeIndex: 5572 entries, 0 to 5571\n",
            "Data columns (total 5 columns):\n",
            " #   Column      Non-Null Count  Dtype \n",
            "---  ------      --------------  ----- \n",
            " 0   v1          5572 non-null   object\n",
            " 1   v2          5572 non-null   object\n",
            " 2   Unnamed: 2  50 non-null     object\n",
            " 3   Unnamed: 3  12 non-null     object\n",
            " 4   Unnamed: 4  6 non-null      object\n",
            "dtypes: object(5)\n",
            "memory usage: 217.8+ KB\n"
          ]
        }
      ]
    },
    {
      "cell_type": "code",
      "metadata": {
        "id": "NTx0vmOtX0RK",
        "outputId": "3cccc1c4-0355-445c-8088-66e66a6aabba"
      },
      "source": [
        "# Удаляем лишние столбцы\n",
        "sms.drop(['Unnamed: 2','Unnamed: 3','Unnamed: 4'],axis=1,inplace=True)\n",
        "sms.head()"
      ],
      "execution_count": null,
      "outputs": [
        {
          "data": {
            "text/html": [
              "<div>\n",
              "<style scoped>\n",
              "    .dataframe tbody tr th:only-of-type {\n",
              "        vertical-align: middle;\n",
              "    }\n",
              "\n",
              "    .dataframe tbody tr th {\n",
              "        vertical-align: top;\n",
              "    }\n",
              "\n",
              "    .dataframe thead th {\n",
              "        text-align: right;\n",
              "    }\n",
              "</style>\n",
              "<table border=\"1\" class=\"dataframe\">\n",
              "  <thead>\n",
              "    <tr style=\"text-align: right;\">\n",
              "      <th></th>\n",
              "      <th>v1</th>\n",
              "      <th>v2</th>\n",
              "    </tr>\n",
              "  </thead>\n",
              "  <tbody>\n",
              "    <tr>\n",
              "      <th>0</th>\n",
              "      <td>ham</td>\n",
              "      <td>Go until jurong point, crazy.. Available only ...</td>\n",
              "    </tr>\n",
              "    <tr>\n",
              "      <th>1</th>\n",
              "      <td>ham</td>\n",
              "      <td>Ok lar... Joking wif u oni...</td>\n",
              "    </tr>\n",
              "    <tr>\n",
              "      <th>2</th>\n",
              "      <td>spam</td>\n",
              "      <td>Free entry in 2 a wkly comp to win FA Cup fina...</td>\n",
              "    </tr>\n",
              "    <tr>\n",
              "      <th>3</th>\n",
              "      <td>ham</td>\n",
              "      <td>U dun say so early hor... U c already then say...</td>\n",
              "    </tr>\n",
              "    <tr>\n",
              "      <th>4</th>\n",
              "      <td>ham</td>\n",
              "      <td>Nah I don't think he goes to usf, he lives aro...</td>\n",
              "    </tr>\n",
              "  </tbody>\n",
              "</table>\n",
              "</div>"
            ],
            "text/plain": [
              "     v1                                                 v2\n",
              "0   ham  Go until jurong point, crazy.. Available only ...\n",
              "1   ham                      Ok lar... Joking wif u oni...\n",
              "2  spam  Free entry in 2 a wkly comp to win FA Cup fina...\n",
              "3   ham  U dun say so early hor... U c already then say...\n",
              "4   ham  Nah I don't think he goes to usf, he lives aro..."
            ]
          },
          "execution_count": 4,
          "metadata": {},
          "output_type": "execute_result"
        }
      ]
    },
    {
      "cell_type": "code",
      "metadata": {
        "id": "mmxSVk9DX0RM",
        "outputId": "4fe6c141-101c-4619-f285-a187d8b92d49"
      },
      "source": [
        "sms.rename(columns={\"v1\":\"label\", \"v2\":\"text\"}, inplace=True)\n",
        "sms.head()"
      ],
      "execution_count": null,
      "outputs": [
        {
          "data": {
            "text/html": [
              "<div>\n",
              "<style scoped>\n",
              "    .dataframe tbody tr th:only-of-type {\n",
              "        vertical-align: middle;\n",
              "    }\n",
              "\n",
              "    .dataframe tbody tr th {\n",
              "        vertical-align: top;\n",
              "    }\n",
              "\n",
              "    .dataframe thead th {\n",
              "        text-align: right;\n",
              "    }\n",
              "</style>\n",
              "<table border=\"1\" class=\"dataframe\">\n",
              "  <thead>\n",
              "    <tr style=\"text-align: right;\">\n",
              "      <th></th>\n",
              "      <th>label</th>\n",
              "      <th>text</th>\n",
              "    </tr>\n",
              "  </thead>\n",
              "  <tbody>\n",
              "    <tr>\n",
              "      <th>0</th>\n",
              "      <td>ham</td>\n",
              "      <td>Go until jurong point, crazy.. Available only ...</td>\n",
              "    </tr>\n",
              "    <tr>\n",
              "      <th>1</th>\n",
              "      <td>ham</td>\n",
              "      <td>Ok lar... Joking wif u oni...</td>\n",
              "    </tr>\n",
              "    <tr>\n",
              "      <th>2</th>\n",
              "      <td>spam</td>\n",
              "      <td>Free entry in 2 a wkly comp to win FA Cup fina...</td>\n",
              "    </tr>\n",
              "    <tr>\n",
              "      <th>3</th>\n",
              "      <td>ham</td>\n",
              "      <td>U dun say so early hor... U c already then say...</td>\n",
              "    </tr>\n",
              "    <tr>\n",
              "      <th>4</th>\n",
              "      <td>ham</td>\n",
              "      <td>Nah I don't think he goes to usf, he lives aro...</td>\n",
              "    </tr>\n",
              "  </tbody>\n",
              "</table>\n",
              "</div>"
            ],
            "text/plain": [
              "  label                                               text\n",
              "0   ham  Go until jurong point, crazy.. Available only ...\n",
              "1   ham                      Ok lar... Joking wif u oni...\n",
              "2  spam  Free entry in 2 a wkly comp to win FA Cup fina...\n",
              "3   ham  U dun say so early hor... U c already then say...\n",
              "4   ham  Nah I don't think he goes to usf, he lives aro..."
            ]
          },
          "execution_count": 5,
          "metadata": {},
          "output_type": "execute_result"
        }
      ]
    },
    {
      "cell_type": "code",
      "metadata": {
        "id": "WuLGlU2bX0RN",
        "outputId": "885bcea0-ab5b-4e76-8649-263549806e6c"
      },
      "source": [
        "sms['label'].replace({'ham':0,'spam':1},inplace=True)\n",
        "sms.head()"
      ],
      "execution_count": null,
      "outputs": [
        {
          "data": {
            "text/html": [
              "<div>\n",
              "<style scoped>\n",
              "    .dataframe tbody tr th:only-of-type {\n",
              "        vertical-align: middle;\n",
              "    }\n",
              "\n",
              "    .dataframe tbody tr th {\n",
              "        vertical-align: top;\n",
              "    }\n",
              "\n",
              "    .dataframe thead th {\n",
              "        text-align: right;\n",
              "    }\n",
              "</style>\n",
              "<table border=\"1\" class=\"dataframe\">\n",
              "  <thead>\n",
              "    <tr style=\"text-align: right;\">\n",
              "      <th></th>\n",
              "      <th>label</th>\n",
              "      <th>text</th>\n",
              "    </tr>\n",
              "  </thead>\n",
              "  <tbody>\n",
              "    <tr>\n",
              "      <th>0</th>\n",
              "      <td>0</td>\n",
              "      <td>Go until jurong point, crazy.. Available only ...</td>\n",
              "    </tr>\n",
              "    <tr>\n",
              "      <th>1</th>\n",
              "      <td>0</td>\n",
              "      <td>Ok lar... Joking wif u oni...</td>\n",
              "    </tr>\n",
              "    <tr>\n",
              "      <th>2</th>\n",
              "      <td>1</td>\n",
              "      <td>Free entry in 2 a wkly comp to win FA Cup fina...</td>\n",
              "    </tr>\n",
              "    <tr>\n",
              "      <th>3</th>\n",
              "      <td>0</td>\n",
              "      <td>U dun say so early hor... U c already then say...</td>\n",
              "    </tr>\n",
              "    <tr>\n",
              "      <th>4</th>\n",
              "      <td>0</td>\n",
              "      <td>Nah I don't think he goes to usf, he lives aro...</td>\n",
              "    </tr>\n",
              "  </tbody>\n",
              "</table>\n",
              "</div>"
            ],
            "text/plain": [
              "   label                                               text\n",
              "0      0  Go until jurong point, crazy.. Available only ...\n",
              "1      0                      Ok lar... Joking wif u oni...\n",
              "2      1  Free entry in 2 a wkly comp to win FA Cup fina...\n",
              "3      0  U dun say so early hor... U c already then say...\n",
              "4      0  Nah I don't think he goes to usf, he lives aro..."
            ]
          },
          "execution_count": 6,
          "metadata": {},
          "output_type": "execute_result"
        }
      ]
    },
    {
      "cell_type": "code",
      "metadata": {
        "id": "dy16xbNJX0RP"
      },
      "source": [
        "stop = stopwords.words('english')"
      ],
      "execution_count": null,
      "outputs": []
    },
    {
      "cell_type": "code",
      "metadata": {
        "id": "2quuGmiqX0RR",
        "outputId": "bf26dd23-969a-44b1-b61b-6fd4c6c421ec"
      },
      "source": [
        "sms['n_of_stopwords'] = sms['text'].agg(lambda x: len([w for w in x.split() if w in stop]))\n",
        "sms.head()"
      ],
      "execution_count": null,
      "outputs": [
        {
          "data": {
            "text/html": [
              "<div>\n",
              "<style scoped>\n",
              "    .dataframe tbody tr th:only-of-type {\n",
              "        vertical-align: middle;\n",
              "    }\n",
              "\n",
              "    .dataframe tbody tr th {\n",
              "        vertical-align: top;\n",
              "    }\n",
              "\n",
              "    .dataframe thead th {\n",
              "        text-align: right;\n",
              "    }\n",
              "</style>\n",
              "<table border=\"1\" class=\"dataframe\">\n",
              "  <thead>\n",
              "    <tr style=\"text-align: right;\">\n",
              "      <th></th>\n",
              "      <th>label</th>\n",
              "      <th>text</th>\n",
              "      <th>n_of_stopwords</th>\n",
              "    </tr>\n",
              "  </thead>\n",
              "  <tbody>\n",
              "    <tr>\n",
              "      <th>0</th>\n",
              "      <td>0</td>\n",
              "      <td>Go until jurong point, crazy.. Available only ...</td>\n",
              "      <td>4</td>\n",
              "    </tr>\n",
              "    <tr>\n",
              "      <th>1</th>\n",
              "      <td>0</td>\n",
              "      <td>Ok lar... Joking wif u oni...</td>\n",
              "      <td>0</td>\n",
              "    </tr>\n",
              "    <tr>\n",
              "      <th>2</th>\n",
              "      <td>1</td>\n",
              "      <td>Free entry in 2 a wkly comp to win FA Cup fina...</td>\n",
              "      <td>5</td>\n",
              "    </tr>\n",
              "    <tr>\n",
              "      <th>3</th>\n",
              "      <td>0</td>\n",
              "      <td>U dun say so early hor... U c already then say...</td>\n",
              "      <td>2</td>\n",
              "    </tr>\n",
              "    <tr>\n",
              "      <th>4</th>\n",
              "      <td>0</td>\n",
              "      <td>Nah I don't think he goes to usf, he lives aro...</td>\n",
              "      <td>5</td>\n",
              "    </tr>\n",
              "  </tbody>\n",
              "</table>\n",
              "</div>"
            ],
            "text/plain": [
              "   label                                               text  n_of_stopwords\n",
              "0      0  Go until jurong point, crazy.. Available only ...               4\n",
              "1      0                      Ok lar... Joking wif u oni...               0\n",
              "2      1  Free entry in 2 a wkly comp to win FA Cup fina...               5\n",
              "3      0  U dun say so early hor... U c already then say...               2\n",
              "4      0  Nah I don't think he goes to usf, he lives aro...               5"
            ]
          },
          "execution_count": 8,
          "metadata": {},
          "output_type": "execute_result"
        }
      ]
    },
    {
      "cell_type": "code",
      "metadata": {
        "id": "7QsIp_zVX0RS",
        "outputId": "06d6849f-c6b8-4d32-88d7-0b7672725903"
      },
      "source": [
        "# Удаляем знаки препинания\n",
        "sms['n_of_signs'] = sms['text'].agg(lambda x: len(re.findall('[^\\w\\s]', x)))\n",
        "sms['text'] = sms['text'].agg(lambda x: re.sub('[^\\w\\s]', '', x))\n",
        "sms.head(2)"
      ],
      "execution_count": null,
      "outputs": [
        {
          "data": {
            "text/html": [
              "<div>\n",
              "<style scoped>\n",
              "    .dataframe tbody tr th:only-of-type {\n",
              "        vertical-align: middle;\n",
              "    }\n",
              "\n",
              "    .dataframe tbody tr th {\n",
              "        vertical-align: top;\n",
              "    }\n",
              "\n",
              "    .dataframe thead th {\n",
              "        text-align: right;\n",
              "    }\n",
              "</style>\n",
              "<table border=\"1\" class=\"dataframe\">\n",
              "  <thead>\n",
              "    <tr style=\"text-align: right;\">\n",
              "      <th></th>\n",
              "      <th>label</th>\n",
              "      <th>text</th>\n",
              "      <th>n_of_stopwords</th>\n",
              "      <th>n_of_signs</th>\n",
              "    </tr>\n",
              "  </thead>\n",
              "  <tbody>\n",
              "    <tr>\n",
              "      <th>0</th>\n",
              "      <td>0</td>\n",
              "      <td>Go until jurong point crazy Available only in ...</td>\n",
              "      <td>4</td>\n",
              "      <td>9</td>\n",
              "    </tr>\n",
              "    <tr>\n",
              "      <th>1</th>\n",
              "      <td>0</td>\n",
              "      <td>Ok lar Joking wif u oni</td>\n",
              "      <td>0</td>\n",
              "      <td>6</td>\n",
              "    </tr>\n",
              "  </tbody>\n",
              "</table>\n",
              "</div>"
            ],
            "text/plain": [
              "   label                                               text  n_of_stopwords  \\\n",
              "0      0  Go until jurong point crazy Available only in ...               4   \n",
              "1      0                            Ok lar Joking wif u oni               0   \n",
              "\n",
              "   n_of_signs  \n",
              "0           9  \n",
              "1           6  "
            ]
          },
          "execution_count": 9,
          "metadata": {},
          "output_type": "execute_result"
        }
      ]
    },
    {
      "cell_type": "code",
      "metadata": {
        "id": "9YGZ9lfaX0RT"
      },
      "source": [
        "stemmer = SnowballStemmer('english')\n",
        "def stemming(text):\n",
        "    text = ' '.join(stemmer.stem(word) for word in text.split())\n",
        "    return text"
      ],
      "execution_count": null,
      "outputs": []
    },
    {
      "cell_type": "code",
      "metadata": {
        "id": "PMJ_sSIiX0RU",
        "outputId": "2ef0a3bc-5c96-41b1-b11b-f5af3f2bcb44"
      },
      "source": [
        "sms['text'] = sms['text'].apply(stemming)\n",
        "sms.head()"
      ],
      "execution_count": null,
      "outputs": [
        {
          "data": {
            "text/html": [
              "<div>\n",
              "<style scoped>\n",
              "    .dataframe tbody tr th:only-of-type {\n",
              "        vertical-align: middle;\n",
              "    }\n",
              "\n",
              "    .dataframe tbody tr th {\n",
              "        vertical-align: top;\n",
              "    }\n",
              "\n",
              "    .dataframe thead th {\n",
              "        text-align: right;\n",
              "    }\n",
              "</style>\n",
              "<table border=\"1\" class=\"dataframe\">\n",
              "  <thead>\n",
              "    <tr style=\"text-align: right;\">\n",
              "      <th></th>\n",
              "      <th>label</th>\n",
              "      <th>text</th>\n",
              "      <th>n_of_stopwords</th>\n",
              "      <th>n_of_signs</th>\n",
              "    </tr>\n",
              "  </thead>\n",
              "  <tbody>\n",
              "    <tr>\n",
              "      <th>0</th>\n",
              "      <td>0</td>\n",
              "      <td>go until jurong point crazi avail onli in bugi...</td>\n",
              "      <td>4</td>\n",
              "      <td>9</td>\n",
              "    </tr>\n",
              "    <tr>\n",
              "      <th>1</th>\n",
              "      <td>0</td>\n",
              "      <td>ok lar joke wif u oni</td>\n",
              "      <td>0</td>\n",
              "      <td>6</td>\n",
              "    </tr>\n",
              "    <tr>\n",
              "      <th>2</th>\n",
              "      <td>1</td>\n",
              "      <td>free entri in 2 a wkli comp to win fa cup fina...</td>\n",
              "      <td>5</td>\n",
              "      <td>6</td>\n",
              "    </tr>\n",
              "    <tr>\n",
              "      <th>3</th>\n",
              "      <td>0</td>\n",
              "      <td>u dun say so earli hor u c alreadi then say</td>\n",
              "      <td>2</td>\n",
              "      <td>6</td>\n",
              "    </tr>\n",
              "    <tr>\n",
              "      <th>4</th>\n",
              "      <td>0</td>\n",
              "      <td>nah i dont think he goe to usf he live around ...</td>\n",
              "      <td>5</td>\n",
              "      <td>2</td>\n",
              "    </tr>\n",
              "  </tbody>\n",
              "</table>\n",
              "</div>"
            ],
            "text/plain": [
              "   label                                               text  n_of_stopwords  \\\n",
              "0      0  go until jurong point crazi avail onli in bugi...               4   \n",
              "1      0                              ok lar joke wif u oni               0   \n",
              "2      1  free entri in 2 a wkli comp to win fa cup fina...               5   \n",
              "3      0        u dun say so earli hor u c alreadi then say               2   \n",
              "4      0  nah i dont think he goe to usf he live around ...               5   \n",
              "\n",
              "   n_of_signs  \n",
              "0           9  \n",
              "1           6  \n",
              "2           6  \n",
              "3           6  \n",
              "4           2  "
            ]
          },
          "execution_count": 11,
          "metadata": {},
          "output_type": "execute_result"
        }
      ]
    },
    {
      "cell_type": "markdown",
      "metadata": {
        "id": "lEOwiQNLX0RV"
      },
      "source": [
        "# Визуализация данных"
      ]
    },
    {
      "cell_type": "code",
      "metadata": {
        "id": "sWB6uyJCX0RV",
        "outputId": "2507273a-f721-4300-8f68-9c80899f8ecb"
      },
      "source": [
        "# Создаем WordCloud с наиболее часто встречающимися словами в спам смс\n",
        "from wordcloud import WordCloud\n",
        "\n",
        "spams=sms['text'][sms['label']==1]\n",
        "\n",
        "spamcloud = WordCloud(width=1200,height=800,background_color='white',max_words=30).generate(' '.join(spams))\n",
        "\n",
        "plt.figure(figsize=(12,8),facecolor='k')\n",
        "plt.imshow(spamcloud)\n",
        "plt.axis('off')\n",
        "plt.tight_layout(pad=0)\n",
        "plt.show()"
      ],
      "execution_count": null,
      "outputs": [
        {
          "data": {
            "image/png": "[encoded data removed]",
            "text/plain": [
              "<Figure size 864x576 with 1 Axes>"
            ]
          },
          "metadata": {},
          "output_type": "display_data"
        }
      ]
    },
    {
      "cell_type": "code",
      "metadata": {
        "id": "jh7cCzukX0RX",
        "outputId": "7c63db07-7a44-40c1-bb40-e8a319f516f0"
      },
      "source": [
        "# Создаем WordCloud с наиболее часто встречающимися словами в обычныз смс\n",
        "from wordcloud import WordCloud\n",
        "\n",
        "spams=sms['text'][sms['label']==0]\n",
        "\n",
        "notspamcloud = WordCloud(width=1200,height=800,background_color='white',max_words=30).generate(' '.join(spams))\n",
        "\n",
        "plt.figure(figsize=(12,8),facecolor='k')\n",
        "plt.imshow(notspamcloud)\n",
        "plt.axis('off')\n",
        "plt.tight_layout(pad=0)\n",
        "plt.show()"
      ],
      "execution_count": null,
      "outputs": [
        {
          "data": {
            "image/png": "[encoded data removed]",
            "text/plain": [
              "<Figure size 864x576 with 1 Axes>"
            ]
          },
          "metadata": {},
          "output_type": "display_data"
        }
      ]
    },
    {
      "cell_type": "markdown",
      "metadata": {
        "id": "ZXV0qLpJX0RX"
      },
      "source": [
        "# Использование готовой модели из библиотеки Huggingface\n",
        "В данной задаче исходными данными являются тексты, в связи с этим естественной гипотезой является использование SOTA подходов для работы с текстами, построенными на архитектуре трансформеров. Ожидается, что данные модели должны показать лучшее качество. В качестве первого эксперимента воспользуемся готовой моделью из библиотеки Huggingface - https://huggingface.co/mrm8488/bert-tiny-finetuned-sms-spam-detection Данная модель построена поверх Bern-tiny и натренирована на задаче детекции спам в СМС сообщениях"
      ]
    },
    {
      "cell_type": "code",
      "metadata": {
        "id": "-ijRalXMX0RY",
        "outputId": "81701ecc-87fa-425b-e06b-a6adf3a46ebd"
      },
      "source": [
        "! pip install datasets transformers[sentencepiece]"
      ],
      "execution_count": null,
      "outputs": [
        {
          "name": "stdout",
          "output_type": "stream",
          "text": [
            "Collecting datasets\n",
            "  Using cached https://files.pythonhosted.org/packages/9f/40/5d3df41be03e6947d7faaafe27bd9e4b94d3730b94e3189b679f11f9f390/datasets-1.11.0-py3-none-any.whl\n",
            "Requirement already satisfied: transformers[sentencepiece] in c:\\programdata\\watsonstudiodesktop\\miniconda3\\envs\\desktop\\lib\\site-packages (4.9.2)\n",
            "Collecting pyarrow!=4.0.0,>=1.0.0 (from datasets)\n",
            "  Using cached https://files.pythonhosted.org/packages/0c/82/45cdbb3fb7b76df31c09488548026ab001310dafa9ab796157ecf47715fa/pyarrow-5.0.0-cp36-cp36m-win_amd64.whl\n",
            "Requirement already satisfied: importlib-metadata; python_version < \"3.8\" in c:\\programdata\\watsonstudiodesktop\\miniconda3\\envs\\desktop\\lib\\site-packages (from datasets) (4.6.3)\n",
            "Requirement already satisfied: huggingface-hub<0.1.0 in c:\\programdata\\watsonstudiodesktop\\miniconda3\\envs\\desktop\\lib\\site-packages (from datasets) (0.0.12)\n",
            "Requirement already satisfied: tqdm>=4.42 in c:\\programdata\\watsonstudiodesktop\\miniconda3\\envs\\desktop\\lib\\site-packages (from datasets) (4.62.0)\n",
            "Requirement already satisfied: numpy>=1.17 in c:\\programdata\\watsonstudiodesktop\\miniconda3\\envs\\desktop\\lib\\site-packages (from datasets) (1.19.5)\n",
            "Requirement already satisfied: fsspec>=2021.05.0 in c:\\programdata\\watsonstudiodesktop\\miniconda3\\envs\\desktop\\lib\\site-packages (from datasets) (2021.7.0)\n",
            "Requirement already satisfied: requests>=2.19.0 in c:\\programdata\\watsonstudiodesktop\\miniconda3\\envs\\desktop\\lib\\site-packages (from datasets) (2.26.0)\n",
            "Requirement already satisfied: xxhash in c:\\programdata\\watsonstudiodesktop\\miniconda3\\envs\\desktop\\lib\\site-packages (from datasets) (2.0.2)\n",
            "Requirement already satisfied: dill in c:\\programdata\\watsonstudiodesktop\\miniconda3\\envs\\desktop\\lib\\site-packages (from datasets) (0.2.8.2)\n",
            "Requirement already satisfied: packaging in c:\\programdata\\watsonstudiodesktop\\miniconda3\\envs\\desktop\\lib\\site-packages (from datasets) (21.0)\n",
            "Requirement already satisfied: multiprocess in c:\\programdata\\watsonstudiodesktop\\miniconda3\\envs\\desktop\\lib\\site-packages (from datasets) (0.70.12.2)\n",
            "Requirement already satisfied: dataclasses; python_version < \"3.7\" in c:\\programdata\\watsonstudiodesktop\\miniconda3\\envs\\desktop\\lib\\site-packages (from datasets) (0.8)\n",
            "Requirement already satisfied: pandas in c:\\users\\anastasia\\appdata\\roaming\\python\\python36\\site-packages (from datasets) (1.1.5)\n",
            "Requirement already satisfied: sacremoses in c:\\programdata\\watsonstudiodesktop\\miniconda3\\envs\\desktop\\lib\\site-packages (from transformers[sentencepiece]) (0.0.45)\n",
            "Requirement already satisfied: filelock in c:\\programdata\\watsonstudiodesktop\\miniconda3\\envs\\desktop\\lib\\site-packages (from transformers[sentencepiece]) (3.0.12)\n",
            "Requirement already satisfied: tokenizers<0.11,>=0.10.1 in c:\\programdata\\watsonstudiodesktop\\miniconda3\\envs\\desktop\\lib\\site-packages (from transformers[sentencepiece]) (0.10.3)\n",
            "Requirement already satisfied: regex!=2019.12.17 in c:\\programdata\\watsonstudiodesktop\\miniconda3\\envs\\desktop\\lib\\site-packages (from transformers[sentencepiece]) (2021.8.3)\n",
            "Requirement already satisfied: pyyaml>=5.1 in c:\\programdata\\watsonstudiodesktop\\miniconda3\\envs\\desktop\\lib\\site-packages (from transformers[sentencepiece]) (5.4.1)\n",
            "Requirement already satisfied: protobuf; extra == \"sentencepiece\" in c:\\programdata\\watsonstudiodesktop\\miniconda3\\envs\\desktop\\lib\\site-packages (from transformers[sentencepiece]) (3.17.3)\n",
            "Collecting sentencepiece==0.1.91; extra == \"sentencepiece\" (from transformers[sentencepiece])\n",
            "  Using cached https://files.pythonhosted.org/packages/fa/2f/efa2492dda74720eef27bf1f2f210a2aa456d5d167cf5bcfee593ea54091/sentencepiece-0.1.91-cp36-cp36m-win_amd64.whl\n",
            "Requirement already satisfied: zipp>=0.5 in c:\\programdata\\watsonstudiodesktop\\miniconda3\\envs\\desktop\\lib\\site-packages (from importlib-metadata; python_version < \"3.8\"->datasets) (3.5.0)\n",
            "Requirement already satisfied: typing-extensions>=3.6.4; python_version < \"3.8\" in c:\\programdata\\watsonstudiodesktop\\miniconda3\\envs\\desktop\\lib\\site-packages (from importlib-metadata; python_version < \"3.8\"->datasets) (3.7.4.3)\n",
            "Requirement already satisfied: colorama; platform_system == \"Windows\" in c:\\programdata\\watsonstudiodesktop\\miniconda3\\envs\\desktop\\lib\\site-packages (from tqdm>=4.42->datasets) (0.4.4)\n",
            "Requirement already satisfied: idna<4,>=2.5; python_version >= \"3\" in c:\\programdata\\watsonstudiodesktop\\miniconda3\\envs\\desktop\\lib\\site-packages (from requests>=2.19.0->datasets) (3.2)\n",
            "Requirement already satisfied: charset-normalizer~=2.0.0; python_version >= \"3\" in c:\\programdata\\watsonstudiodesktop\\miniconda3\\envs\\desktop\\lib\\site-packages (from requests>=2.19.0->datasets) (2.0.4)\n",
            "Requirement already satisfied: certifi>=2017.4.17 in c:\\programdata\\watsonstudiodesktop\\miniconda3\\envs\\desktop\\lib\\site-packages (from requests>=2.19.0->datasets) (2021.5.30)\n",
            "Requirement already satisfied: urllib3<1.27,>=1.21.1 in c:\\programdata\\watsonstudiodesktop\\miniconda3\\envs\\desktop\\lib\\site-packages (from requests>=2.19.0->datasets) (1.26.6)\n",
            "Requirement already satisfied: pyreadline>=1.7.1 in c:\\programdata\\watsonstudiodesktop\\miniconda3\\envs\\desktop\\lib\\site-packages (from dill->datasets) (2.1)\n",
            "Requirement already satisfied: pyparsing>=2.0.2 in c:\\programdata\\watsonstudiodesktop\\miniconda3\\envs\\desktop\\lib\\site-packages (from packaging->datasets) (2.4.7)\n",
            "Requirement already satisfied: python-dateutil>=2.7.3 in c:\\programdata\\watsonstudiodesktop\\miniconda3\\envs\\desktop\\lib\\site-packages (from pandas->datasets) (2.7.5)\n",
            "Requirement already satisfied: pytz>=2017.2 in c:\\programdata\\watsonstudiodesktop\\miniconda3\\envs\\desktop\\lib\\site-packages (from pandas->datasets) (2018.9)\n",
            "Requirement already satisfied: joblib in c:\\programdata\\watsonstudiodesktop\\miniconda3\\envs\\desktop\\lib\\site-packages (from sacremoses->transformers[sentencepiece]) (1.0.1)\n",
            "Requirement already satisfied: click in c:\\programdata\\watsonstudiodesktop\\miniconda3\\envs\\desktop\\lib\\site-packages (from sacremoses->transformers[sentencepiece]) (8.0.1)\n",
            "Requirement already satisfied: six in c:\\programdata\\watsonstudiodesktop\\miniconda3\\envs\\desktop\\lib\\site-packages (from sacremoses->transformers[sentencepiece]) (1.15.0)\n",
            "Installing collected packages: pyarrow, datasets, sentencepiece\n",
            "  Found existing installation: pyarrow 0.11.1\n",
            "    Uninstalling pyarrow-0.11.1:\n"
          ]
        },
        {
          "name": "stderr",
          "output_type": "stream",
          "text": [
            "C:\\ProgramData\\WatsonStudioDesktop\\miniconda3\\envs\\desktop\\lib\\site-packages\\pip\\_internal\\req\\req_install.py:391: UserWarning: Unbuilt egg for Unknown [unknown version] (c:\\programdata\\watsonstudiodesktop\\miniconda3\\envs\\desktop\\lib\\site-packages)\n",
            "  self.satisfied_by = pkg_resources.get_distribution(str(no_marker))\n",
            "Error checking for conflicts.\n",
            "Traceback (most recent call last):\n",
            "  File \"C:\\ProgramData\\WatsonStudioDesktop\\miniconda3\\envs\\desktop\\lib\\site-packages\\pip\\_vendor\\pkg_resources\\__init__.py\", line 2897, in _dep_map\n",
            "    return self.__dep_map\n",
            "  File \"C:\\ProgramData\\WatsonStudioDesktop\\miniconda3\\envs\\desktop\\lib\\site-packages\\pip\\_vendor\\pkg_resources\\__init__.py\", line 2691, in __getattr__\n",
            "    raise AttributeError(attr)\n",
            "AttributeError: _DistInfoDistribution__dep_map\n",
            "\n",
            "During handling of the above exception, another exception occurred:\n",
            "\n",
            "Traceback (most recent call last):\n",
            "  File \"C:\\ProgramData\\WatsonStudioDesktop\\miniconda3\\envs\\desktop\\lib\\site-packages\\pip\\_vendor\\pkg_resources\\__init__.py\", line 2888, in _parsed_pkg_info\n",
            "    return self._pkg_info\n",
            "  File \"C:\\ProgramData\\WatsonStudioDesktop\\miniconda3\\envs\\desktop\\lib\\site-packages\\pip\\_vendor\\pkg_resources\\__init__.py\", line 2691, in __getattr__\n",
            "    raise AttributeError(attr)\n",
            "AttributeError: _pkg_info\n",
            "\n",
            "During handling of the above exception, another exception occurred:\n",
            "\n",
            "Traceback (most recent call last):\n",
            "  File \"C:\\ProgramData\\WatsonStudioDesktop\\miniconda3\\envs\\desktop\\lib\\site-packages\\pip\\_internal\\commands\\install.py\", line 503, in _warn_about_conflicts\n",
            "    package_set, _dep_info = check_install_conflicts(to_install)\n",
            "  File \"C:\\ProgramData\\WatsonStudioDesktop\\miniconda3\\envs\\desktop\\lib\\site-packages\\pip\\_internal\\operations\\check.py\", line 108, in check_install_conflicts\n",
            "    package_set, _ = create_package_set_from_installed()\n",
            "  File \"C:\\ProgramData\\WatsonStudioDesktop\\miniconda3\\envs\\desktop\\lib\\site-packages\\pip\\_internal\\operations\\check.py\", line 47, in create_package_set_from_installed\n",
            "    package_set[name] = PackageDetails(dist.version, dist.requires())\n",
            "  File \"C:\\ProgramData\\WatsonStudioDesktop\\miniconda3\\envs\\desktop\\lib\\site-packages\\pip\\_vendor\\pkg_resources\\__init__.py\", line 2635, in requires\n",
            "    dm = self._dep_map\n",
            "  File \"C:\\ProgramData\\WatsonStudioDesktop\\miniconda3\\envs\\desktop\\lib\\site-packages\\pip\\_vendor\\pkg_resources\\__init__.py\", line 2899, in _dep_map\n",
            "    self.__dep_map = self._compute_dependencies()\n",
            "  File \"C:\\ProgramData\\WatsonStudioDesktop\\miniconda3\\envs\\desktop\\lib\\site-packages\\pip\\_vendor\\pkg_resources\\__init__.py\", line 2908, in _compute_dependencies\n",
            "    for req in self._parsed_pkg_info.get_all('Requires-Dist') or []:\n",
            "  File \"C:\\ProgramData\\WatsonStudioDesktop\\miniconda3\\envs\\desktop\\lib\\site-packages\\pip\\_vendor\\pkg_resources\\__init__.py\", line 2890, in _parsed_pkg_info\n",
            "    metadata = self.get_metadata(self.PKG_INFO)\n",
            "  File \"C:\\ProgramData\\WatsonStudioDesktop\\miniconda3\\envs\\desktop\\lib\\site-packages\\pip\\_vendor\\pkg_resources\\__init__.py\", line 1410, in get_metadata\n",
            "    value = self._get(self._fn(self.egg_info, name))\n",
            "  File \"C:\\ProgramData\\WatsonStudioDesktop\\miniconda3\\envs\\desktop\\lib\\site-packages\\pip\\_vendor\\pkg_resources\\__init__.py\", line 1522, in _get\n",
            "    with open(path, 'rb') as stream:\n",
            "FileNotFoundError: [Errno 2] No such file or directory: 'c:\\\\programdata\\\\watsonstudiodesktop\\\\miniconda3\\\\envs\\\\desktop\\\\lib\\\\site-packages\\\\~andas-0.24.1.dist-info\\\\METADATA'\n",
            "Could not install packages due to an EnvironmentError: [WinError 5] Отказано в доступе: 'c:\\\\programdata\\\\watsonstudiodesktop\\\\miniconda3\\\\envs\\\\desktop\\\\lib\\\\site-packages\\\\pyarrow\\\\array.pxi'\n",
            "Consider using the `--user` option or check the permissions.\n",
            "\n"
          ]
        }
      ]
    },
    {
      "cell_type": "code",
      "metadata": {
        "id": "4NBV004BX0RY"
      },
      "source": [
        "from transformers import AutoTokenizer, AutoModelForSequenceClassification \n",
        "\n",
        "tokenizer = AutoTokenizer.from_pretrained(\"mrm8488/bert-tiny-finetuned-sms-spam-detection\")\n",
        "\n",
        "model = AutoModelForSequenceClassification.from_pretrained(\"mrm8488/bert-tiny-finetuned-sms-spam-detection\")"
      ],
      "execution_count": null,
      "outputs": []
    },
    {
      "cell_type": "code",
      "metadata": {
        "id": "SKZgKCTjX0RZ",
        "outputId": "60a8f5d1-78af-4b28-e83d-b2b4f4fd11f3"
      },
      "source": [
        "model.config.id2label"
      ],
      "execution_count": null,
      "outputs": [
        {
          "data": {
            "text/plain": [
              "{0: 'LABEL_0', 1: 'LABEL_1'}"
            ]
          },
          "execution_count": 16,
          "metadata": {},
          "output_type": "execute_result"
        }
      ]
    },
    {
      "cell_type": "code",
      "metadata": {
        "id": "EhUsMR7bX0RZ",
        "outputId": "f7989d00-a056-4711-e7b6-8a02cc42260a"
      },
      "source": [
        "num_batches = 10\n",
        "raw_inputs = sms.text.to_list()\n",
        "labels = sms.label.to_list()\n",
        "\n",
        "batch_size = len(raw_inputs) // num_batches\n",
        "print('batch size = ', batch_size)\n",
        "\n",
        "total_predictions = []\n",
        "\n",
        "for i in range(num_batches):\n",
        "  batch = raw_inputs[i*batch_size: (i+1)*batch_size]\n",
        "  inputs = tokenizer(batch, padding=True, truncation=True, return_tensors=\"pt\") \n",
        "  outputs = model(**inputs)\n",
        "  predictions = torch.nn.functional.softmax(outputs.logits, dim=-1)\n",
        "  total_predictions.extend(np.argmax(predictions.detach().numpy(), axis = 1))\n",
        "\n",
        "batch = raw_inputs[10*batch_size: len(raw_inputs)]\n",
        "inputs = tokenizer(batch, padding=True, truncation=True, return_tensors=\"pt\") \n",
        "outputs = model(**inputs)\n",
        "predictions = torch.nn.functional.softmax(outputs.logits, dim=-1)\n",
        "total_predictions.extend(np.argmax(predictions.detach().numpy(), axis = 1))\n",
        "\n",
        "print(len(total_predictions))"
      ],
      "execution_count": null,
      "outputs": [
        {
          "name": "stderr",
          "output_type": "stream",
          "text": [
            "Asking to truncate to max_length but no maximum length is provided and the model has no predefined maximum length. Default to no truncation.\n"
          ]
        },
        {
          "name": "stdout",
          "output_type": "stream",
          "text": [
            "batch size =  557\n",
            "5572\n"
          ]
        }
      ]
    },
    {
      "cell_type": "code",
      "metadata": {
        "id": "7QZVIv6YX0Ra"
      },
      "source": [
        "from sklearn.metrics import precision_score, recall_score, f1_score, classification_report,accuracy_score"
      ],
      "execution_count": null,
      "outputs": []
    },
    {
      "cell_type": "code",
      "metadata": {
        "id": "gsMJSdAPX0Rb"
      },
      "source": [
        "from sklearn.metrics import confusion_matrix\n",
        "categories=['Ham', 'Spam']\n",
        "def seaborn_conf(y, ypred):\n",
        "    y_true = [\"Ham\", \"Spam\"]\n",
        "    y_pred = [\"Ham\", \"Spam\"]\n",
        "    cf = confusion_matrix(y, ypred)\n",
        "    df_cm = pd.DataFrame(cf, columns=np.unique(y_true), index = np.unique(y_true))\n",
        "    plt.figure(figsize=(8,6))\n",
        "    sns.heatmap(df_cm, annot=True, fmt='g')\n",
        "    plt.title('Confusion matrix')\n",
        "    plt.xlabel('Predicted value')\n",
        "    plt.ylabel('Real value')\n",
        "    plt.show()"
      ],
      "execution_count": null,
      "outputs": []
    },
    {
      "cell_type": "code",
      "metadata": {
        "id": "r8KBbsz9X0Rc",
        "outputId": "e57f2e82-0af1-41f5-e995-71aa26d209b3"
      },
      "source": [
        "print('Accuracy: {}'.format(accuracy_score(labels, total_predictions)))\n",
        "seaborn_conf(labels, total_predictions)"
      ],
      "execution_count": null,
      "outputs": [
        {
          "name": "stdout",
          "output_type": "stream",
          "text": [
            "Accuracy: 0.9754127781765972\n"
          ]
        },
        {
          "data": {
            "image/png": "[encoded data removed]",
            "text/plain": [
              "<Figure size 576x432 with 2 Axes>"
            ]
          },
          "metadata": {},
          "output_type": "display_data"
        }
      ]
    },
    {
      "cell_type": "code",
      "metadata": {
        "id": "AlzXZRHIX0Rc",
        "outputId": "2eb93b61-e810-4cf5-cf36-f6a9cc497d3b"
      },
      "source": [
        "print(classification_report(labels, total_predictions, digits=4))"
      ],
      "execution_count": null,
      "outputs": [
        {
          "name": "stdout",
          "output_type": "stream",
          "text": [
            "              precision    recall  f1-score   support\n",
            "\n",
            "           0     0.9881    0.9834    0.9858      4825\n",
            "           1     0.8961    0.9237    0.9097       747\n",
            "\n",
            "   micro avg     0.9754    0.9754    0.9754      5572\n",
            "   macro avg     0.9421    0.9536    0.9477      5572\n",
            "weighted avg     0.9758    0.9754    0.9756      5572\n",
            "\n"
          ]
        }
      ]
    },
    {
      "cell_type": "markdown",
      "metadata": {
        "id": "bRV4ZjO7X0Rc"
      },
      "source": [
        "# Построение собственной модели классификации с использованием Bert из Huggingface\n",
        "Учитывая успешные результаты первого эксперимента, следующая задача - показать, что аналогичную модель можно построить, используя только предобученную модель общего плана (Bert-like) с самостоятельной головой классификации."
      ]
    },
    {
      "cell_type": "code",
      "metadata": {
        "id": "YNe7eQFnX0Rd",
        "outputId": "fa0eeeb4-c473-4e87-edbf-6676b3759ae0"
      },
      "source": [
        "!pip install transformers"
      ],
      "execution_count": null,
      "outputs": [
        {
          "name": "stdout",
          "output_type": "stream",
          "text": [
            "Requirement already satisfied: transformers in c:\\programdata\\watsonstudiodesktop\\miniconda3\\envs\\desktop\\lib\\site-packages (4.9.2)\n",
            "Requirement already satisfied: tokenizers<0.11,>=0.10.1 in c:\\programdata\\watsonstudiodesktop\\miniconda3\\envs\\desktop\\lib\\site-packages (from transformers) (0.10.3)\n",
            "Requirement already satisfied: requests in c:\\programdata\\watsonstudiodesktop\\miniconda3\\envs\\desktop\\lib\\site-packages (from transformers) (2.26.0)\n",
            "Requirement already satisfied: packaging in c:\\programdata\\watsonstudiodesktop\\miniconda3\\envs\\desktop\\lib\\site-packages (from transformers) (21.0)\n",
            "Requirement already satisfied: pyyaml>=5.1 in c:\\programdata\\watsonstudiodesktop\\miniconda3\\envs\\desktop\\lib\\site-packages (from transformers) (5.4.1)\n",
            "Requirement already satisfied: importlib-metadata; python_version < \"3.8\" in c:\\programdata\\watsonstudiodesktop\\miniconda3\\envs\\desktop\\lib\\site-packages (from transformers) (4.6.3)\n",
            "Requirement already satisfied: regex!=2019.12.17 in c:\\programdata\\watsonstudiodesktop\\miniconda3\\envs\\desktop\\lib\\site-packages (from transformers) (2021.8.3)\n",
            "Requirement already satisfied: sacremoses in c:\\programdata\\watsonstudiodesktop\\miniconda3\\envs\\desktop\\lib\\site-packages (from transformers) (0.0.45)\n",
            "Requirement already satisfied: tqdm>=4.27 in c:\\programdata\\watsonstudiodesktop\\miniconda3\\envs\\desktop\\lib\\site-packages (from transformers) (4.62.0)\n",
            "Requirement already satisfied: dataclasses; python_version < \"3.7\" in c:\\programdata\\watsonstudiodesktop\\miniconda3\\envs\\desktop\\lib\\site-packages (from transformers) (0.8)\n",
            "Requirement already satisfied: numpy>=1.17 in c:\\programdata\\watsonstudiodesktop\\miniconda3\\envs\\desktop\\lib\\site-packages (from transformers) (1.19.5)\n",
            "Requirement already satisfied: filelock in c:\\programdata\\watsonstudiodesktop\\miniconda3\\envs\\desktop\\lib\\site-packages (from transformers) (3.0.12)\n",
            "Requirement already satisfied: huggingface-hub==0.0.12 in c:\\programdata\\watsonstudiodesktop\\miniconda3\\envs\\desktop\\lib\\site-packages (from transformers) (0.0.12)\n",
            "Requirement already satisfied: certifi>=2017.4.17 in c:\\programdata\\watsonstudiodesktop\\miniconda3\\envs\\desktop\\lib\\site-packages (from requests->transformers) (2021.5.30)\n",
            "Requirement already satisfied: idna<4,>=2.5; python_version >= \"3\" in c:\\programdata\\watsonstudiodesktop\\miniconda3\\envs\\desktop\\lib\\site-packages (from requests->transformers) (3.2)\n",
            "Requirement already satisfied: charset-normalizer~=2.0.0; python_version >= \"3\" in c:\\programdata\\watsonstudiodesktop\\miniconda3\\envs\\desktop\\lib\\site-packages (from requests->transformers) (2.0.4)\n",
            "Requirement already satisfied: urllib3<1.27,>=1.21.1 in c:\\programdata\\watsonstudiodesktop\\miniconda3\\envs\\desktop\\lib\\site-packages (from requests->transformers) (1.26.6)\n",
            "Requirement already satisfied: pyparsing>=2.0.2 in c:\\programdata\\watsonstudiodesktop\\miniconda3\\envs\\desktop\\lib\\site-packages (from packaging->transformers) (2.4.7)\n",
            "Requirement already satisfied: typing-extensions>=3.6.4; python_version < \"3.8\" in c:\\programdata\\watsonstudiodesktop\\miniconda3\\envs\\desktop\\lib\\site-packages (from importlib-metadata; python_version < \"3.8\"->transformers) (3.7.4.3)\n",
            "Requirement already satisfied: zipp>=0.5 in c:\\programdata\\watsonstudiodesktop\\miniconda3\\envs\\desktop\\lib\\site-packages (from importlib-metadata; python_version < \"3.8\"->transformers) (3.5.0)\n",
            "Requirement already satisfied: joblib in c:\\programdata\\watsonstudiodesktop\\miniconda3\\envs\\desktop\\lib\\site-packages (from sacremoses->transformers) (1.0.1)\n",
            "Requirement already satisfied: six in c:\\programdata\\watsonstudiodesktop\\miniconda3\\envs\\desktop\\lib\\site-packages (from sacremoses->transformers) (1.15.0)\n",
            "Requirement already satisfied: click in c:\\programdata\\watsonstudiodesktop\\miniconda3\\envs\\desktop\\lib\\site-packages (from sacremoses->transformers) (8.0.1)\n",
            "Requirement already satisfied: colorama; platform_system == \"Windows\" in c:\\programdata\\watsonstudiodesktop\\miniconda3\\envs\\desktop\\lib\\site-packages (from tqdm>=4.27->transformers) (0.4.4)\n"
          ]
        },
        {
          "name": "stderr",
          "output_type": "stream",
          "text": [
            "Error checking for conflicts.\n",
            "Traceback (most recent call last):\n",
            "  File \"C:\\ProgramData\\WatsonStudioDesktop\\miniconda3\\envs\\desktop\\lib\\site-packages\\pip\\_vendor\\pkg_resources\\__init__.py\", line 2897, in _dep_map\n",
            "    return self.__dep_map\n",
            "  File \"C:\\ProgramData\\WatsonStudioDesktop\\miniconda3\\envs\\desktop\\lib\\site-packages\\pip\\_vendor\\pkg_resources\\__init__.py\", line 2691, in __getattr__\n",
            "    raise AttributeError(attr)\n",
            "AttributeError: _DistInfoDistribution__dep_map\n",
            "\n",
            "During handling of the above exception, another exception occurred:\n",
            "\n",
            "Traceback (most recent call last):\n",
            "  File \"C:\\ProgramData\\WatsonStudioDesktop\\miniconda3\\envs\\desktop\\lib\\site-packages\\pip\\_vendor\\pkg_resources\\__init__.py\", line 2888, in _parsed_pkg_info\n",
            "    return self._pkg_info\n",
            "  File \"C:\\ProgramData\\WatsonStudioDesktop\\miniconda3\\envs\\desktop\\lib\\site-packages\\pip\\_vendor\\pkg_resources\\__init__.py\", line 2691, in __getattr__\n",
            "    raise AttributeError(attr)\n",
            "AttributeError: _pkg_info\n",
            "\n",
            "During handling of the above exception, another exception occurred:\n",
            "\n",
            "Traceback (most recent call last):\n",
            "  File \"C:\\ProgramData\\WatsonStudioDesktop\\miniconda3\\envs\\desktop\\lib\\site-packages\\pip\\_internal\\commands\\install.py\", line 503, in _warn_about_conflicts\n",
            "    package_set, _dep_info = check_install_conflicts(to_install)\n",
            "  File \"C:\\ProgramData\\WatsonStudioDesktop\\miniconda3\\envs\\desktop\\lib\\site-packages\\pip\\_internal\\operations\\check.py\", line 108, in check_install_conflicts\n",
            "    package_set, _ = create_package_set_from_installed()\n",
            "  File \"C:\\ProgramData\\WatsonStudioDesktop\\miniconda3\\envs\\desktop\\lib\\site-packages\\pip\\_internal\\operations\\check.py\", line 47, in create_package_set_from_installed\n",
            "    package_set[name] = PackageDetails(dist.version, dist.requires())\n",
            "  File \"C:\\ProgramData\\WatsonStudioDesktop\\miniconda3\\envs\\desktop\\lib\\site-packages\\pip\\_vendor\\pkg_resources\\__init__.py\", line 2635, in requires\n",
            "    dm = self._dep_map\n",
            "  File \"C:\\ProgramData\\WatsonStudioDesktop\\miniconda3\\envs\\desktop\\lib\\site-packages\\pip\\_vendor\\pkg_resources\\__init__.py\", line 2899, in _dep_map\n",
            "    self.__dep_map = self._compute_dependencies()\n",
            "  File \"C:\\ProgramData\\WatsonStudioDesktop\\miniconda3\\envs\\desktop\\lib\\site-packages\\pip\\_vendor\\pkg_resources\\__init__.py\", line 2908, in _compute_dependencies\n",
            "    for req in self._parsed_pkg_info.get_all('Requires-Dist') or []:\n",
            "  File \"C:\\ProgramData\\WatsonStudioDesktop\\miniconda3\\envs\\desktop\\lib\\site-packages\\pip\\_vendor\\pkg_resources\\__init__.py\", line 2890, in _parsed_pkg_info\n",
            "    metadata = self.get_metadata(self.PKG_INFO)\n",
            "  File \"C:\\ProgramData\\WatsonStudioDesktop\\miniconda3\\envs\\desktop\\lib\\site-packages\\pip\\_vendor\\pkg_resources\\__init__.py\", line 1410, in get_metadata\n",
            "    value = self._get(self._fn(self.egg_info, name))\n",
            "  File \"C:\\ProgramData\\WatsonStudioDesktop\\miniconda3\\envs\\desktop\\lib\\site-packages\\pip\\_vendor\\pkg_resources\\__init__.py\", line 1522, in _get\n",
            "    with open(path, 'rb') as stream:\n",
            "FileNotFoundError: [Errno 2] No such file or directory: 'c:\\\\programdata\\\\watsonstudiodesktop\\\\miniconda3\\\\envs\\\\desktop\\\\lib\\\\site-packages\\\\~andas-0.24.1.dist-info\\\\METADATA'\n"
          ]
        }
      ]
    },
    {
      "cell_type": "code",
      "metadata": {
        "id": "UPVo8DouX0Re"
      },
      "source": [
        "import transformers\n",
        "import string"
      ],
      "execution_count": null,
      "outputs": []
    },
    {
      "cell_type": "code",
      "metadata": {
        "id": "sV6YrZ4GX0Re",
        "outputId": "eb989490-472d-4ca9-abdf-c1ced4ff4c9c"
      },
      "source": [
        "# Loading pretrained model/tokenizer\n",
        "tokenizer = transformers.DistilBertTokenizer.from_pretrained(\"distilbert-base-uncased\")\n",
        "model = transformers.DistilBertModel.from_pretrained(\"distilbert-base-uncased\")"
      ],
      "execution_count": null,
      "outputs": [
        {
          "name": "stderr",
          "output_type": "stream",
          "text": [
            "Some weights of the model checkpoint at distilbert-base-uncased were not used when initializing DistilBertModel: ['vocab_layer_norm.bias', 'vocab_projector.bias', 'vocab_transform.bias', 'vocab_layer_norm.weight', 'vocab_projector.weight', 'vocab_transform.weight']\n",
            "- This IS expected if you are initializing DistilBertModel from the checkpoint of a model trained on another task or with another architecture (e.g. initializing a BertForSequenceClassification model from a BertForPreTraining model).\n",
            "- This IS NOT expected if you are initializing DistilBertModel from the checkpoint of a model that you expect to be exactly identical (initializing a BertForSequenceClassification model from a BertForSequenceClassification model).\n"
          ]
        }
      ]
    },
    {
      "cell_type": "code",
      "metadata": {
        "id": "cVncqSelX0Rg"
      },
      "source": [
        "def clean_sentence(s):\n",
        "    \"\"\"Given a sentence remove its punctuation and stop words\"\"\"\n",
        "    \n",
        "    stop_words = set(stopwords.words('english'))\n",
        "    s = s.translate(str.maketrans('','',string.punctuation)) # remove punctuation\n",
        "    tokens = word_tokenize(s)\n",
        "    cleaned_s = [w for w in tokens if w not in stop_words] # removing stop-words\n",
        "    return \" \".join(cleaned_s[:20]) # using the first 10 tokens only\n",
        "\n",
        "sms[\"text\"] = sms[\"text\"].apply(clean_sentence)"
      ],
      "execution_count": null,
      "outputs": []
    },
    {
      "cell_type": "code",
      "metadata": {
        "id": "1pbzx6EsX0Rg",
        "outputId": "ef777a4b-32fa-4139-9223-51eb111df047"
      },
      "source": [
        "tokenized = sms[\"text\"].apply(lambda x: tokenizer.encode(x, add_special_tokens=True))\n",
        "tokenized"
      ],
      "execution_count": null,
      "outputs": [
        {
          "data": {
            "text/plain": [
              "0       [101, 2175, 18414, 17583, 2391, 13675, 16103, ...\n",
              "1       [101, 7929, 2474, 2099, 8257, 15536, 2546, 105...\n",
              "2       [101, 2489, 4372, 18886, 1016, 1059, 2243, 366...\n",
              "3       [101, 1057, 24654, 2360, 4656, 2072, 7570, 209...\n",
              "4       [101, 20976, 2123, 2102, 2228, 2175, 2063, 214...\n",
              "                              ...                        \n",
              "5567    [101, 3416, 2051, 13012, 1016, 3967, 1057, 105...\n",
              "5568    [101, 1195, 29763, 1038, 2175, 9686, 24759, 51...\n",
              "5569       [101, 6770, 2072, 6888, 2061, 7088, 6592, 102]\n",
              "5570    [101, 3124, 7743, 2552, 2066, 8909, 3037, 4965...\n",
              "5571                 [101, 20996, 10258, 2995, 2171, 102]\n",
              "Name: text, Length: 5572, dtype: object"
            ]
          },
          "execution_count": 26,
          "metadata": {},
          "output_type": "execute_result"
        }
      ]
    },
    {
      "cell_type": "code",
      "metadata": {
        "id": "UstMI9wkX0Rg",
        "outputId": "105ee315-4e09-4944-9243-bcae2c427792"
      },
      "source": [
        "max_len = tokenized.apply(len).max() # get the length of the longest tokenized sentence\n",
        "\n",
        "padded = np.array([i + [0]*(max_len-len(i)) for i in tokenized.values]) # padd the rest of the sentence with zeros if the sentence is smaller than the longest sentence\n",
        "padded"
      ],
      "execution_count": null,
      "outputs": [
        {
          "data": {
            "text/plain": [
              "array([[  101,  2175, 18414, ...,     0,     0,     0],\n",
              "       [  101,  7929,  2474, ...,     0,     0,     0],\n",
              "       [  101,  2489,  4372, ...,     0,     0,     0],\n",
              "       ...,\n",
              "       [  101,  6770,  2072, ...,     0,     0,     0],\n",
              "       [  101,  3124,  7743, ...,     0,     0,     0],\n",
              "       [  101, 20996, 10258, ...,     0,     0,     0]])"
            ]
          },
          "execution_count": 27,
          "metadata": {},
          "output_type": "execute_result"
        }
      ]
    },
    {
      "cell_type": "code",
      "metadata": {
        "id": "53zyfbRoX0Rh",
        "outputId": "2f5b84af-e943-4fdb-e525-9e93bc36f8ea"
      },
      "source": [
        "attention_mask = np.where(padded != 0, 1, 0)\n",
        "attention_mask"
      ],
      "execution_count": null,
      "outputs": [
        {
          "data": {
            "text/plain": [
              "array([[1, 1, 1, ..., 0, 0, 0],\n",
              "       [1, 1, 1, ..., 0, 0, 0],\n",
              "       [1, 1, 1, ..., 0, 0, 0],\n",
              "       ...,\n",
              "       [1, 1, 1, ..., 0, 0, 0],\n",
              "       [1, 1, 1, ..., 0, 0, 0],\n",
              "       [1, 1, 1, ..., 0, 0, 0]])"
            ]
          },
          "execution_count": 28,
          "metadata": {},
          "output_type": "execute_result"
        }
      ]
    },
    {
      "cell_type": "code",
      "metadata": {
        "id": "B5qf6fEvX0Rh"
      },
      "source": [
        "input_ids = torch.tensor(padded)  # create a torch tensor for the padded sentences\n",
        "input_ids = torch.tensor(padded).to(torch.int64)\n",
        "attention_mask = torch.tensor(attention_mask) # create a torch tensor for the attention matrix\n",
        "\n",
        "\n",
        "\n",
        "with torch.no_grad():\n",
        "    encoder_hidden_state = model(input_ids, attention_mask=attention_mask)"
      ],
      "execution_count": null,
      "outputs": []
    },
    {
      "cell_type": "code",
      "metadata": {
        "id": "z0DSI0I1X0Ri"
      },
      "source": [
        "X = encoder_hidden_state[0][:,0,:].numpy()"
      ],
      "execution_count": null,
      "outputs": []
    },
    {
      "cell_type": "code",
      "metadata": {
        "id": "FzzdU7AKX0Ri"
      },
      "source": [
        "sms[\"num_words\"] = sms[\"text\"].apply(lambda s: len(re.findall(r'\\w+', s))) # Count the number of words in the message\n",
        "sms[\"message_len\"] = sms[\"text\"].apply(len) # get the length of the text message"
      ],
      "execution_count": null,
      "outputs": []
    },
    {
      "cell_type": "code",
      "metadata": {
        "id": "zBop3Gi1X0Ri",
        "outputId": "b2aa1835-e536-48af-f11c-94cc1ee088cb"
      },
      "source": [
        "sms.head(2)"
      ],
      "execution_count": null,
      "outputs": [
        {
          "data": {
            "text/html": [
              "<div>\n",
              "<style scoped>\n",
              "    .dataframe tbody tr th:only-of-type {\n",
              "        vertical-align: middle;\n",
              "    }\n",
              "\n",
              "    .dataframe tbody tr th {\n",
              "        vertical-align: top;\n",
              "    }\n",
              "\n",
              "    .dataframe thead th {\n",
              "        text-align: right;\n",
              "    }\n",
              "</style>\n",
              "<table border=\"1\" class=\"dataframe\">\n",
              "  <thead>\n",
              "    <tr style=\"text-align: right;\">\n",
              "      <th></th>\n",
              "      <th>label</th>\n",
              "      <th>text</th>\n",
              "      <th>n_of_stopwords</th>\n",
              "      <th>n_of_signs</th>\n",
              "      <th>num_words</th>\n",
              "      <th>message_len</th>\n",
              "    </tr>\n",
              "  </thead>\n",
              "  <tbody>\n",
              "    <tr>\n",
              "      <th>0</th>\n",
              "      <td>0</td>\n",
              "      <td>go jurong point crazi avail onli bugi n great ...</td>\n",
              "      <td>4</td>\n",
              "      <td>9</td>\n",
              "      <td>17</td>\n",
              "      <td>81</td>\n",
              "    </tr>\n",
              "    <tr>\n",
              "      <th>1</th>\n",
              "      <td>0</td>\n",
              "      <td>ok lar joke wif u oni</td>\n",
              "      <td>0</td>\n",
              "      <td>6</td>\n",
              "      <td>6</td>\n",
              "      <td>21</td>\n",
              "    </tr>\n",
              "  </tbody>\n",
              "</table>\n",
              "</div>"
            ],
            "text/plain": [
              "   label                                               text  n_of_stopwords  \\\n",
              "0      0  go jurong point crazi avail onli bugi n great ...               4   \n",
              "1      0                              ok lar joke wif u oni               0   \n",
              "\n",
              "   n_of_signs  num_words  message_len  \n",
              "0           9         17           81  \n",
              "1           6          6           21  "
            ]
          },
          "execution_count": 32,
          "metadata": {},
          "output_type": "execute_result"
        }
      ]
    },
    {
      "cell_type": "code",
      "metadata": {
        "id": "TaWMYvYFX0Ri"
      },
      "source": [
        "X = encoder_hidden_state[0][:,0,:].numpy()\n",
        "X = np.hstack((X, sms[[\"num_words\", \"message_len\"]].to_numpy().reshape(-1, 2))) # addind the the engineered features from the beginning\n",
        "y = sms[\"label\"].astype('int')"
      ],
      "execution_count": null,
      "outputs": []
    },
    {
      "cell_type": "code",
      "metadata": {
        "id": "kUnFguMaX0Rj"
      },
      "source": [
        "X_train, X_test, y_train, y_test = train_test_split(X, y, stratify=y, random_state=42)"
      ],
      "execution_count": null,
      "outputs": []
    },
    {
      "cell_type": "code",
      "metadata": {
        "id": "OukhXR9gX0Rk",
        "outputId": "6eccfdac-0710-414a-8a40-dbf63358c01e"
      },
      "source": [
        "y_train.value_counts()"
      ],
      "execution_count": null,
      "outputs": [
        {
          "data": {
            "text/plain": [
              "0    3619\n",
              "1     560\n",
              "Name: label, dtype: int64"
            ]
          },
          "execution_count": 35,
          "metadata": {},
          "output_type": "execute_result"
        }
      ]
    },
    {
      "cell_type": "code",
      "metadata": {
        "id": "5WuAWQprX0Rk"
      },
      "source": [
        "from sklearn.ensemble import RandomForestClassifier"
      ],
      "execution_count": null,
      "outputs": []
    },
    {
      "cell_type": "code",
      "metadata": {
        "id": "d8o7qkyoX0Rk"
      },
      "source": [
        "rf_classifier = RandomForestClassifier(n_estimators=1500, class_weight=\"balanced\", n_jobs=-1, random_state=42) # Create a baseline random forest (no cross-validation, no hyperparameter tuning)\n",
        "model=RandomForestClassifier()\n",
        "model.fit(X_train,y_train)\n",
        "pred=model.predict(X_test)"
      ],
      "execution_count": null,
      "outputs": []
    },
    {
      "cell_type": "code",
      "metadata": {
        "id": "99q8RVTLX0Rl",
        "outputId": "4be1e187-c8a8-4fa9-f832-5d10d79a0f9c"
      },
      "source": [
        "print('Accuracy score', accuracy_score(y_test, pred))\n",
        "seaborn_conf(y_test, pred)\n",
        "print('-----------------------------------------')\n",
        "print('Confusion Matrix')\n",
        "print(confusion_matrix(y_test, pred))\n",
        "print('-----------------------------------------')\n",
        "print('Classification Report')\n",
        "print(classification_report(y_test, pred, digits=4))"
      ],
      "execution_count": null,
      "outputs": [
        {
          "name": "stdout",
          "output_type": "stream",
          "text": [
            "Accuracy score 0.9676956209619526\n"
          ]
        },
        {
          "data": {
            "image/png": "[encoded data removed]",
            "text/plain": [
              "<Figure size 576x432 with 2 Axes>"
            ]
          },
          "metadata": {},
          "output_type": "display_data"
        },
        {
          "name": "stdout",
          "output_type": "stream",
          "text": [
            "-----------------------------------------\n",
            "Confusion Matrix\n",
            "[[1200    6]\n",
            " [  39  148]]\n",
            "-----------------------------------------\n",
            "Classification Report\n",
            "              precision    recall  f1-score   support\n",
            "\n",
            "           0     0.9685    0.9950    0.9816      1206\n",
            "           1     0.9610    0.7914    0.8680       187\n",
            "\n",
            "   micro avg     0.9677    0.9677    0.9677      1393\n",
            "   macro avg     0.9648    0.8932    0.9248      1393\n",
            "weighted avg     0.9675    0.9677    0.9664      1393\n",
            "\n"
          ]
        }
      ]
    },
    {
      "cell_type": "markdown",
      "metadata": {
        "id": "ktMZNOUoX0Rl"
      },
      "source": [
        "Выводы:\n",
        "\n",
        "* Доказано, что качество по метрике accuracy можно получить 97%\n",
        "* Значительно ниже получилась метрика recall для спам сообщений, однако в данном эксперименте не проводился подбор классификатора и его гиперпарметров. Скорее всего данную все метрики можно улучшить подбором классификатора и гиперпараметров\n",
        "* Обучение модели для получения латентного представления - главное бутылочное горлышко данного подхода. Во-первых, обучение на данном небольшом датасете заняло достаточно длительное время (несколько минут), к тому же пришлось ограничить размер СМС в 20 слов, чтобы обойти ограничение по памяти"
      ]
    },
    {
      "cell_type": "markdown",
      "metadata": {
        "id": "T6qRTsO_X0Rm"
      },
      "source": [
        "# Полиномиальный вариант наивного байесовского классификатора\n",
        "Теперь применим вероятностный классификатор на основе теоремы Байеса. Данный вариант будет отличаться тем, что задействует меньше вычислительных ресурсов, следовательно займет меньшее количество времени. "
      ]
    },
    {
      "cell_type": "code",
      "metadata": {
        "id": "5UCJ9WcZX0Rm"
      },
      "source": [
        "from sklearn.feature_extraction.text import CountVectorizer\n",
        "cv = CountVectorizer(max_features= 2500)"
      ],
      "execution_count": null,
      "outputs": []
    },
    {
      "cell_type": "code",
      "metadata": {
        "id": "d04SIHxFX0Rm",
        "outputId": "88709461-bf36-4233-e11c-a7c32d8c4f12"
      },
      "source": [
        "X = cv.fit_transform(sms.text).toarray()\n",
        "X = pd.DataFrame(np.hstack([sms.iloc[:, -4:], X]))\n",
        "X.head()"
      ],
      "execution_count": null,
      "outputs": [
        {
          "data": {
            "text/html": [
              "<div>\n",
              "<style scoped>\n",
              "    .dataframe tbody tr th:only-of-type {\n",
              "        vertical-align: middle;\n",
              "    }\n",
              "\n",
              "    .dataframe tbody tr th {\n",
              "        vertical-align: top;\n",
              "    }\n",
              "\n",
              "    .dataframe thead th {\n",
              "        text-align: right;\n",
              "    }\n",
              "</style>\n",
              "<table border=\"1\" class=\"dataframe\">\n",
              "  <thead>\n",
              "    <tr style=\"text-align: right;\">\n",
              "      <th></th>\n",
              "      <th>0</th>\n",
              "      <th>1</th>\n",
              "      <th>2</th>\n",
              "      <th>3</th>\n",
              "      <th>4</th>\n",
              "      <th>5</th>\n",
              "      <th>6</th>\n",
              "      <th>7</th>\n",
              "      <th>8</th>\n",
              "      <th>9</th>\n",
              "      <th>...</th>\n",
              "      <th>2494</th>\n",
              "      <th>2495</th>\n",
              "      <th>2496</th>\n",
              "      <th>2497</th>\n",
              "      <th>2498</th>\n",
              "      <th>2499</th>\n",
              "      <th>2500</th>\n",
              "      <th>2501</th>\n",
              "      <th>2502</th>\n",
              "      <th>2503</th>\n",
              "    </tr>\n",
              "  </thead>\n",
              "  <tbody>\n",
              "    <tr>\n",
              "      <th>0</th>\n",
              "      <td>4</td>\n",
              "      <td>9</td>\n",
              "      <td>17</td>\n",
              "      <td>81</td>\n",
              "      <td>0</td>\n",
              "      <td>0</td>\n",
              "      <td>0</td>\n",
              "      <td>0</td>\n",
              "      <td>0</td>\n",
              "      <td>0</td>\n",
              "      <td>...</td>\n",
              "      <td>0</td>\n",
              "      <td>0</td>\n",
              "      <td>0</td>\n",
              "      <td>0</td>\n",
              "      <td>0</td>\n",
              "      <td>0</td>\n",
              "      <td>0</td>\n",
              "      <td>0</td>\n",
              "      <td>0</td>\n",
              "      <td>0</td>\n",
              "    </tr>\n",
              "    <tr>\n",
              "      <th>1</th>\n",
              "      <td>0</td>\n",
              "      <td>6</td>\n",
              "      <td>6</td>\n",
              "      <td>21</td>\n",
              "      <td>0</td>\n",
              "      <td>0</td>\n",
              "      <td>0</td>\n",
              "      <td>0</td>\n",
              "      <td>0</td>\n",
              "      <td>0</td>\n",
              "      <td>...</td>\n",
              "      <td>0</td>\n",
              "      <td>0</td>\n",
              "      <td>0</td>\n",
              "      <td>0</td>\n",
              "      <td>0</td>\n",
              "      <td>0</td>\n",
              "      <td>0</td>\n",
              "      <td>0</td>\n",
              "      <td>0</td>\n",
              "      <td>0</td>\n",
              "    </tr>\n",
              "    <tr>\n",
              "      <th>2</th>\n",
              "      <td>5</td>\n",
              "      <td>6</td>\n",
              "      <td>20</td>\n",
              "      <td>101</td>\n",
              "      <td>0</td>\n",
              "      <td>0</td>\n",
              "      <td>0</td>\n",
              "      <td>0</td>\n",
              "      <td>0</td>\n",
              "      <td>0</td>\n",
              "      <td>...</td>\n",
              "      <td>0</td>\n",
              "      <td>0</td>\n",
              "      <td>0</td>\n",
              "      <td>0</td>\n",
              "      <td>0</td>\n",
              "      <td>0</td>\n",
              "      <td>0</td>\n",
              "      <td>0</td>\n",
              "      <td>0</td>\n",
              "      <td>0</td>\n",
              "    </tr>\n",
              "    <tr>\n",
              "      <th>3</th>\n",
              "      <td>2</td>\n",
              "      <td>6</td>\n",
              "      <td>9</td>\n",
              "      <td>35</td>\n",
              "      <td>0</td>\n",
              "      <td>0</td>\n",
              "      <td>0</td>\n",
              "      <td>0</td>\n",
              "      <td>0</td>\n",
              "      <td>0</td>\n",
              "      <td>...</td>\n",
              "      <td>0</td>\n",
              "      <td>0</td>\n",
              "      <td>0</td>\n",
              "      <td>0</td>\n",
              "      <td>0</td>\n",
              "      <td>0</td>\n",
              "      <td>0</td>\n",
              "      <td>0</td>\n",
              "      <td>0</td>\n",
              "      <td>0</td>\n",
              "    </tr>\n",
              "    <tr>\n",
              "      <th>4</th>\n",
              "      <td>5</td>\n",
              "      <td>2</td>\n",
              "      <td>8</td>\n",
              "      <td>41</td>\n",
              "      <td>0</td>\n",
              "      <td>0</td>\n",
              "      <td>0</td>\n",
              "      <td>0</td>\n",
              "      <td>0</td>\n",
              "      <td>0</td>\n",
              "      <td>...</td>\n",
              "      <td>0</td>\n",
              "      <td>0</td>\n",
              "      <td>0</td>\n",
              "      <td>0</td>\n",
              "      <td>0</td>\n",
              "      <td>0</td>\n",
              "      <td>0</td>\n",
              "      <td>0</td>\n",
              "      <td>0</td>\n",
              "      <td>0</td>\n",
              "    </tr>\n",
              "  </tbody>\n",
              "</table>\n",
              "<p>5 rows × 2504 columns</p>\n",
              "</div>"
            ],
            "text/plain": [
              "   0     1     2     3     4     5     6     7     8     9     ...  2494  \\\n",
              "0     4     9    17    81     0     0     0     0     0     0  ...     0   \n",
              "1     0     6     6    21     0     0     0     0     0     0  ...     0   \n",
              "2     5     6    20   101     0     0     0     0     0     0  ...     0   \n",
              "3     2     6     9    35     0     0     0     0     0     0  ...     0   \n",
              "4     5     2     8    41     0     0     0     0     0     0  ...     0   \n",
              "\n",
              "   2495  2496  2497  2498  2499  2500  2501  2502  2503  \n",
              "0     0     0     0     0     0     0     0     0     0  \n",
              "1     0     0     0     0     0     0     0     0     0  \n",
              "2     0     0     0     0     0     0     0     0     0  \n",
              "3     0     0     0     0     0     0     0     0     0  \n",
              "4     0     0     0     0     0     0     0     0     0  \n",
              "\n",
              "[5 rows x 2504 columns]"
            ]
          },
          "execution_count": 40,
          "metadata": {},
          "output_type": "execute_result"
        }
      ]
    },
    {
      "cell_type": "code",
      "metadata": {
        "id": "XI5aZKa-X0Rm",
        "outputId": "c675d56c-1ee1-4e15-e70d-96149f9ba850"
      },
      "source": [
        "y = pd.get_dummies(sms.label, drop_first=True)\n",
        "y = np.array(y)\n",
        "print(y.shape)"
      ],
      "execution_count": null,
      "outputs": [
        {
          "name": "stdout",
          "output_type": "stream",
          "text": [
            "(5572, 1)\n"
          ]
        }
      ]
    },
    {
      "cell_type": "code",
      "metadata": {
        "id": "M4d1OW34X0Rn"
      },
      "source": [
        "from sklearn.naive_bayes import  MultinomialNB\n",
        "from sklearn.metrics import accuracy_score,precision_score, recall_score, classification_report"
      ],
      "execution_count": null,
      "outputs": []
    },
    {
      "cell_type": "code",
      "metadata": {
        "id": "klt22EQoX0Rn"
      },
      "source": [
        "X_train, X_test, y_train, y_test = train_test_split(X, y, test_size= 0.2)"
      ],
      "execution_count": null,
      "outputs": []
    },
    {
      "cell_type": "code",
      "metadata": {
        "id": "gNhbs6NoX0Rn",
        "scrolled": true,
        "outputId": "326f7f0c-21ad-4707-ca7f-b3b3079e632b"
      },
      "source": [
        "multi_clf = MultinomialNB()\n",
        "multi_clf.fit(X_train, y_train)"
      ],
      "execution_count": null,
      "outputs": [
        {
          "data": {
            "text/plain": [
              "MultinomialNB(alpha=1.0, class_prior=None, fit_prior=True)"
            ]
          },
          "execution_count": 44,
          "metadata": {},
          "output_type": "execute_result"
        }
      ]
    },
    {
      "cell_type": "code",
      "metadata": {
        "id": "ReygBCJnX0Ro",
        "outputId": "5783166f-782e-4e0c-fd7f-88f8ebe2872e"
      },
      "source": [
        "sms.groupby('label').agg(['mean', 'std'])"
      ],
      "execution_count": null,
      "outputs": [
        {
          "data": {
            "text/html": [
              "<div>\n",
              "<style scoped>\n",
              "    .dataframe tbody tr th:only-of-type {\n",
              "        vertical-align: middle;\n",
              "    }\n",
              "\n",
              "    .dataframe tbody tr th {\n",
              "        vertical-align: top;\n",
              "    }\n",
              "\n",
              "    .dataframe thead tr th {\n",
              "        text-align: left;\n",
              "    }\n",
              "\n",
              "    .dataframe thead tr:last-of-type th {\n",
              "        text-align: right;\n",
              "    }\n",
              "</style>\n",
              "<table border=\"1\" class=\"dataframe\">\n",
              "  <thead>\n",
              "    <tr>\n",
              "      <th></th>\n",
              "      <th colspan=\"2\" halign=\"left\">n_of_stopwords</th>\n",
              "      <th colspan=\"2\" halign=\"left\">n_of_signs</th>\n",
              "      <th colspan=\"2\" halign=\"left\">num_words</th>\n",
              "      <th colspan=\"2\" halign=\"left\">message_len</th>\n",
              "    </tr>\n",
              "    <tr>\n",
              "      <th></th>\n",
              "      <th>mean</th>\n",
              "      <th>std</th>\n",
              "      <th>mean</th>\n",
              "      <th>std</th>\n",
              "      <th>mean</th>\n",
              "      <th>std</th>\n",
              "      <th>mean</th>\n",
              "      <th>std</th>\n",
              "    </tr>\n",
              "    <tr>\n",
              "      <th>label</th>\n",
              "      <th></th>\n",
              "      <th></th>\n",
              "      <th></th>\n",
              "      <th></th>\n",
              "      <th></th>\n",
              "      <th></th>\n",
              "      <th></th>\n",
              "      <th></th>\n",
              "    </tr>\n",
              "  </thead>\n",
              "  <tbody>\n",
              "    <tr>\n",
              "      <th>0</th>\n",
              "      <td>4.451813</td>\n",
              "      <td>4.765240</td>\n",
              "      <td>3.982591</td>\n",
              "      <td>4.775137</td>\n",
              "      <td>7.963938</td>\n",
              "      <td>5.205912</td>\n",
              "      <td>40.789223</td>\n",
              "      <td>27.889948</td>\n",
              "    </tr>\n",
              "    <tr>\n",
              "      <th>1</th>\n",
              "      <td>5.361446</td>\n",
              "      <td>2.948715</td>\n",
              "      <td>6.157965</td>\n",
              "      <td>3.527631</td>\n",
              "      <td>16.313253</td>\n",
              "      <td>4.032492</td>\n",
              "      <td>98.674699</td>\n",
              "      <td>23.166143</td>\n",
              "    </tr>\n",
              "  </tbody>\n",
              "</table>\n",
              "</div>"
            ],
            "text/plain": [
              "      n_of_stopwords           n_of_signs            num_words            \\\n",
              "                mean       std       mean       std       mean       std   \n",
              "label                                                                      \n",
              "0           4.451813  4.765240   3.982591  4.775137   7.963938  5.205912   \n",
              "1           5.361446  2.948715   6.157965  3.527631  16.313253  4.032492   \n",
              "\n",
              "      message_len             \n",
              "             mean        std  \n",
              "label                         \n",
              "0       40.789223  27.889948  \n",
              "1       98.674699  23.166143  "
            ]
          },
          "execution_count": 45,
          "metadata": {},
          "output_type": "execute_result"
        }
      ]
    },
    {
      "cell_type": "code",
      "metadata": {
        "id": "wnB0r3AiX0Ro",
        "outputId": "0371c75a-9238-48bb-bb23-1c27c0d22c56"
      },
      "source": [
        "print('Accuracy score', accuracy_score(y_test, multi_clf.predict(X_test)))\n",
        "seaborn_conf(y_test, multi_clf.predict(X_test))\n",
        "print('-----------------------------------------')\n",
        "print('Confusion Matrix')\n",
        "print(confusion_matrix(y_test, multi_clf.predict(X_test)))\n",
        "print('-----------------------------------------')\n",
        "print('Classification Report')\n",
        "print(classification_report(y_test, multi_clf.predict(X_test), digits=4))"
      ],
      "execution_count": null,
      "outputs": [
        {
          "name": "stdout",
          "output_type": "stream",
          "text": [
            "Accuracy score 0.9838565022421525\n"
          ]
        },
        {
          "data": {
            "image/png": "[encoded data removed]",
            "text/plain": [
              "<Figure size 576x432 with 2 Axes>"
            ]
          },
          "metadata": {},
          "output_type": "display_data"
        },
        {
          "name": "stdout",
          "output_type": "stream",
          "text": [
            "-----------------------------------------\n",
            "Confusion Matrix\n",
            "[[962   9]\n",
            " [  9 135]]\n",
            "-----------------------------------------\n",
            "Classification Report\n",
            "              precision    recall  f1-score   support\n",
            "\n",
            "           0     0.9907    0.9907    0.9907       971\n",
            "           1     0.9375    0.9375    0.9375       144\n",
            "\n",
            "   micro avg     0.9839    0.9839    0.9839      1115\n",
            "   macro avg     0.9641    0.9641    0.9641      1115\n",
            "weighted avg     0.9839    0.9839    0.9839      1115\n",
            "\n"
          ]
        }
      ]
    },
    {
      "cell_type": "markdown",
      "metadata": {
        "id": "Cvk4ouJwX0Rp"
      },
      "source": [
        "# Выводы:\n",
        "* Модель байесовского классификатора по метрике accuracy сопоставима с первым вариантом, разница в показателе незначительная, и может нивелироваться подбором гиперпараметров.\n",
        "* По метрикам precision и recall результаты также сопоставимы с первым классификатором, чуть хуже recall для спам сообщений, зато для них лучше показатель precision, что говорит о том, что мы стали реже допускать ошибку, когда обычные смс классифицируются как спам, но чаще, когда спам классифицируются как обычные смс.\n",
        "* Поскольку данный метод классификации отрабатывает также хорошо как первый, но зато занимает значительно меньше времени, меньше вычислительных ресурсов, он рекомендуется как основной для применения модели в продуктовой среде. "
      ]
    },
    {
      "cell_type": "markdown",
      "metadata": {
        "id": "yP0E9FE4garQ"
      },
      "source": [
        "# XGBoost\n",
        "По вышеописанным причинам, было решено откинуть модель из библиотеки Huggingface, и попробовать взять XGBoost. Данная модель реализует алгоритм градиентного бустинга на решающих деревьях."
      ]
    },
    {
      "cell_type": "code",
      "metadata": {
        "id": "NLOlde85garQ"
      },
      "source": [
        "import xgboost as xgb\n",
        "from xgboost import XGBClassifier"
      ],
      "execution_count": null,
      "outputs": []
    },
    {
      "cell_type": "code",
      "metadata": {
        "id": "0v1XMy9igarR"
      },
      "source": [
        "state = 12  \n",
        "test_size = 0.30  \n",
        "  \n",
        "X_train, X_val, y_train, y_val = train_test_split(X_train, y_train,  \n",
        "    test_size=test_size, random_state=state)"
      ],
      "execution_count": null,
      "outputs": []
    },
    {
      "cell_type": "code",
      "metadata": {
        "id": "20yXaKiZgarS",
        "outputId": "3b78373b-63a1-4958-f44e-79a5e97d8016"
      },
      "source": [
        "modelXGB = XGBClassifier()\n",
        "modelXGB.fit(X_train, y_train)"
      ],
      "execution_count": null,
      "outputs": [
        {
          "data": {
            "text/plain": [
              "XGBClassifier(base_score=0.5, booster='gbtree', colsample_bylevel=1,\n",
              "       colsample_bytree=1, gamma=0, learning_rate=0.1, max_delta_step=0,\n",
              "       max_depth=3, min_child_weight=1, missing=None, n_estimators=100,\n",
              "       n_jobs=1, nthread=None, objective='binary:logistic', random_state=0,\n",
              "       reg_alpha=0, reg_lambda=1, scale_pos_weight=1, seed=None,\n",
              "       silent=True, subsample=1)"
            ]
          },
          "execution_count": 49,
          "metadata": {},
          "output_type": "execute_result"
        }
      ]
    },
    {
      "cell_type": "code",
      "metadata": {
        "id": "SavuqMKmgarT"
      },
      "source": [
        "predictions = modelXGB.predict(X_val)"
      ],
      "execution_count": null,
      "outputs": []
    },
    {
      "cell_type": "code",
      "metadata": {
        "id": "6yZiInNZgarT",
        "outputId": "c6c4e07c-78c6-48cc-9088-5289d789c6a4"
      },
      "source": [
        "print('Accuracy score', accuracy_score(y_test, modelXGB.predict(X_test)))\n",
        "seaborn_conf(y_test, modelXGB.predict(X_test))\n",
        "print('-----------------------------------------')\n",
        "print('Confusion Matrix')\n",
        "print(confusion_matrix(y_test, modelXGB.predict(X_test)))\n",
        "print('-----------------------------------------')\n",
        "print('Classification Report')\n",
        "print(classification_report(y_test, modelXGB.predict(X_test), digits=4))"
      ],
      "execution_count": null,
      "outputs": [
        {
          "name": "stdout",
          "output_type": "stream",
          "text": [
            "Accuracy score 0.968609865470852\n"
          ]
        },
        {
          "data": {
            "image/png": "[encoded data removed]",
            "text/plain": [
              "<Figure size 576x432 with 2 Axes>"
            ]
          },
          "metadata": {},
          "output_type": "display_data"
        },
        {
          "name": "stdout",
          "output_type": "stream",
          "text": [
            "-----------------------------------------\n",
            "Confusion Matrix\n",
            "[[967   4]\n",
            " [ 31 113]]\n",
            "-----------------------------------------\n",
            "Classification Report\n",
            "              precision    recall  f1-score   support\n",
            "\n",
            "           0     0.9689    0.9959    0.9822       971\n",
            "           1     0.9658    0.7847    0.8659       144\n",
            "\n",
            "   micro avg     0.9686    0.9686    0.9686      1115\n",
            "   macro avg     0.9674    0.8903    0.9241      1115\n",
            "weighted avg     0.9685    0.9686    0.9672      1115\n",
            "\n"
          ]
        }
      ]
    },
    {
      "cell_type": "markdown",
      "metadata": {
        "id": "zmV-8THkgarT"
      },
      "source": [
        "Данная модель сопоставима по результатам метрик с нашей базовой моделью. За исключением того, что Precision по классу 1 стало заметно лучше, но Recall метрика стала меньше. Это означает, что наша модель сдала лучше выявлять спам сообщения, но в связи с этим, чаще обычные сообщения классифицируются как спам."
      ]
    },
    {
      "cell_type": "markdown",
      "metadata": {
        "id": "OPRu6Z1IZB_A"
      },
      "source": [
        "# Валидация моделей"
      ]
    },
    {
      "cell_type": "markdown",
      "metadata": {
        "id": "j8UpBDHHgarU"
      },
      "source": [
        "Провалидируем нашу базовую модель построенную на наивном байесовском классификаторе и моделель XGBoost.\n",
        "Чтобы выбрать вариант классификации, посмотрим на соотношение классов."
      ]
    },
    {
      "cell_type": "code",
      "metadata": {
        "id": "oclTWnNrgarU",
        "outputId": "6e254697-aede-43f5-ffbc-e374d1249e18"
      },
      "source": [
        "sms.groupby('label').count()"
      ],
      "execution_count": null,
      "outputs": [
        {
          "data": {
            "text/html": [
              "<div>\n",
              "<style scoped>\n",
              "    .dataframe tbody tr th:only-of-type {\n",
              "        vertical-align: middle;\n",
              "    }\n",
              "\n",
              "    .dataframe tbody tr th {\n",
              "        vertical-align: top;\n",
              "    }\n",
              "\n",
              "    .dataframe thead th {\n",
              "        text-align: right;\n",
              "    }\n",
              "</style>\n",
              "<table border=\"1\" class=\"dataframe\">\n",
              "  <thead>\n",
              "    <tr style=\"text-align: right;\">\n",
              "      <th></th>\n",
              "      <th>text</th>\n",
              "      <th>n_of_stopwords</th>\n",
              "      <th>n_of_signs</th>\n",
              "      <th>num_words</th>\n",
              "      <th>message_len</th>\n",
              "    </tr>\n",
              "    <tr>\n",
              "      <th>label</th>\n",
              "      <th></th>\n",
              "      <th></th>\n",
              "      <th></th>\n",
              "      <th></th>\n",
              "      <th></th>\n",
              "    </tr>\n",
              "  </thead>\n",
              "  <tbody>\n",
              "    <tr>\n",
              "      <th>0</th>\n",
              "      <td>4825</td>\n",
              "      <td>4825</td>\n",
              "      <td>4825</td>\n",
              "      <td>4825</td>\n",
              "      <td>4825</td>\n",
              "    </tr>\n",
              "    <tr>\n",
              "      <th>1</th>\n",
              "      <td>747</td>\n",
              "      <td>747</td>\n",
              "      <td>747</td>\n",
              "      <td>747</td>\n",
              "      <td>747</td>\n",
              "    </tr>\n",
              "  </tbody>\n",
              "</table>\n",
              "</div>"
            ],
            "text/plain": [
              "       text  n_of_stopwords  n_of_signs  num_words  message_len\n",
              "label                                                          \n",
              "0      4825            4825        4825       4825         4825\n",
              "1       747             747         747        747          747"
            ]
          },
          "execution_count": 52,
          "metadata": {},
          "output_type": "execute_result"
        }
      ]
    },
    {
      "cell_type": "markdown",
      "metadata": {
        "id": "OFh_CTOLgarV"
      },
      "source": [
        "Как мы можем наблюдать, в наших данных большой дисбаланс классов, по этой причине наилучшим способом валидации будет являться StratifiedKFold. Данныый метод является вариацией KFold разбиения, но возвращает стратифицированные фолды, то есть каждая выборка будет содержать примерно такой же процент разбиения классов, что и наши полные данные."
      ]
    },
    {
      "cell_type": "code",
      "metadata": {
        "id": "7AR34RQ-garV"
      },
      "source": [
        "from sklearn.model_selection import StratifiedKFold, KFold\n",
        "import numpy as np\n",
        "from statistics import mean\n",
        "from sklearn.metrics import precision_score\n",
        "from sklearn.metrics import recall_score"
      ],
      "execution_count": null,
      "outputs": []
    },
    {
      "cell_type": "code",
      "metadata": {
        "id": "pvCfAC7tgarV"
      },
      "source": [
        "X = X.to_numpy()"
      ],
      "execution_count": null,
      "outputs": []
    },
    {
      "cell_type": "code",
      "metadata": {
        "id": "hhsgyQkkgarW"
      },
      "source": [
        "split = 7\n",
        "skf = StratifiedKFold(split)\n",
        "\n",
        "p_score_multi_clf=[]\n",
        "r_score_multi_clf=[]\n",
        "\n",
        "for train, test in skf.split(X, y):\n",
        "    multi_clf = MultinomialNB()\n",
        "    X_train = X[train]\n",
        "    X_test = X[test]\n",
        "    y_train, y_test = y[train], y[test]\n",
        "    multi_clf.fit(X_train, y_train)\n",
        "    p_score_multi_clf.append(precision_score(y_test, multi_clf.predict(X_test)))\n",
        "    r_score_multi_clf.append(recall_score(y_test, multi_clf.predict(X_test)))"
      ],
      "execution_count": null,
      "outputs": []
    },
    {
      "cell_type": "code",
      "metadata": {
        "id": "lZS-1VI1garW",
        "outputId": "d0afd68a-444d-438c-c2aa-5ce5db7fc049"
      },
      "source": [
        "for i in range(split):\n",
        "    print('Fold # ', i+1)\n",
        "    print('precision score = ', p_score_multi_clf[i]) \n",
        "    print('recall score = ', r_score_multi_clf[i]) \n",
        "\n",
        "print('\\naverage precision score =',mean(p_score_multi_clf))\n",
        "print('average recall score =',mean(r_score_multi_clf))"
      ],
      "execution_count": null,
      "outputs": [
        {
          "name": "stdout",
          "output_type": "stream",
          "text": [
            "Fold #  1\n",
            "precision score =  0.9107142857142857\n",
            "recall score =  0.9532710280373832\n",
            "Fold #  2\n",
            "precision score =  0.9158878504672897\n",
            "recall score =  0.9158878504672897\n",
            "Fold #  3\n",
            "precision score =  0.9339622641509434\n",
            "recall score =  0.9252336448598131\n",
            "Fold #  4\n",
            "precision score =  0.97\n",
            "recall score =  0.9065420560747663\n",
            "Fold #  5\n",
            "precision score =  0.9245283018867925\n",
            "recall score =  0.9158878504672897\n",
            "Fold #  6\n",
            "precision score =  0.9074074074074074\n",
            "recall score =  0.9245283018867925\n",
            "Fold #  7\n",
            "precision score =  0.8938053097345132\n",
            "recall score =  0.9528301886792453\n",
            "\n",
            "average precision score = 0.9223293456230331\n",
            "average recall score = 0.9277401314960828\n"
          ]
        }
      ]
    },
    {
      "cell_type": "code",
      "metadata": {
        "id": "j0Ye_jtkgarW"
      },
      "source": [
        "skf = StratifiedKFold(split)\n",
        "\n",
        "p_score_xgb_clf=[]\n",
        "r_score_xgb_clf=[]\n",
        "\n",
        "for train, test in skf.split(X, y):\n",
        "    modelXGB = XGBClassifier()\n",
        "    X_train = X[train]\n",
        "    X_test = X[test]\n",
        "    y_train, y_test = y[train], y[test]\n",
        "    modelXGB.fit(X_train, y_train)\n",
        "    p_score_xgb_clf.append(precision_score(y_test, modelXGB.predict(X_test)))\n",
        "    r_score_xgb_clf.append(recall_score(y_test, modelXGB.predict(X_test)))"
      ],
      "execution_count": null,
      "outputs": []
    },
    {
      "cell_type": "code",
      "metadata": {
        "id": "rRmfNDKXgarX",
        "outputId": "5341cbe3-4c53-407a-da3e-73e39ef7f639"
      },
      "source": [
        "for i in range(split):\n",
        "    print('Fold # ', i+1)\n",
        "    print('precision score = ', p_score_xgb_clf[i]) \n",
        "    print('recall score = ', r_score_xgb_clf[i]) \n",
        "\n",
        "print('\\naverage precision score =',mean(p_score_xgb_clf))\n",
        "print('average recall score =',mean(r_score_xgb_clf))"
      ],
      "execution_count": null,
      "outputs": [
        {
          "name": "stdout",
          "output_type": "stream",
          "text": [
            "Fold #  1\n",
            "precision score =  0.9484536082474226\n",
            "recall score =  0.8598130841121495\n",
            "Fold #  2\n",
            "precision score =  0.967032967032967\n",
            "recall score =  0.822429906542056\n",
            "Fold #  3\n",
            "precision score =  0.989010989010989\n",
            "recall score =  0.8411214953271028\n",
            "Fold #  4\n",
            "precision score =  0.978021978021978\n",
            "recall score =  0.8317757009345794\n",
            "Fold #  5\n",
            "precision score =  0.9310344827586207\n",
            "recall score =  0.7570093457943925\n",
            "Fold #  6\n",
            "precision score =  0.9753086419753086\n",
            "recall score =  0.7452830188679245\n",
            "Fold #  7\n",
            "precision score =  0.967391304347826\n",
            "recall score =  0.839622641509434\n",
            "\n",
            "average precision score = 0.9651791387707302\n",
            "average recall score = 0.8138650275839484\n"
          ]
        }
      ]
    },
    {
      "cell_type": "markdown",
      "metadata": {
        "id": "v40LCzOugarY"
      },
      "source": [
        "# Вывод\n",
        "* Обе модели достаточно стабильны по фолдам (отклонение каждого показателя с средним значением не критическое). Из чего мы можем сделать вывод, что  разбиение StratifiedKFold было правильным решением.\n",
        "* Прироста качества второй модели по отношению к базовой, не наблюдается. Можно только заметить смещение метрик, что говорит о том, что мы просто стали больше классифицировать не спам сообщения как спам.\n",
        "* По скольку, для нашей бизнесс-задачи, все же важнее, чтобы мы не отмечали обычные смс как спам, так как это может привести к большему недовольству пользователей, решено было остановиться на базовой моделе, то есть на наивном байесовском классификаторе."
      ]
    },
    {
      "cell_type": "code",
      "metadata": {
        "id": "x3FaisKmgarY"
      },
      "source": [
        ""
      ],
      "execution_count": null,
      "outputs": []
    }
  ]
}